{
  "nbformat": 4,
  "nbformat_minor": 0,
  "metadata": {
    "colab": {
      "provenance": [],
      "authorship_tag": "ABX9TyMGZ93xRPwcSvwI5HCDM/b5",
      "include_colab_link": true
    },
    "kernelspec": {
      "name": "python3",
      "display_name": "Python 3"
    },
    "language_info": {
      "name": "python"
    }
  },
  "cells": [
    {
      "cell_type": "markdown",
      "metadata": {
        "id": "view-in-github",
        "colab_type": "text"
      },
      "source": [
        "<a href=\"https://colab.research.google.com/github/zuleka061/Data-structure/blob/main/Statistics_Basic.ipynb\" target=\"_parent\"><img src=\"https://colab.research.google.com/assets/colab-badge.svg\" alt=\"Open In Colab\"/></a>"
      ]
    },
    {
      "cell_type": "markdown",
      "source": [
        "**STATISTICS BASIC**"
      ],
      "metadata": {
        "id": "K5R1vqBq_LtV"
      }
    },
    {
      "cell_type": "markdown",
      "source": [
        "1. What is statistics and why it is important ?\n",
        "\n",
        "--> Statistics is the study of collecting , analyzing , interpreting , presenting and organizing data .\n",
        "\n",
        "    It is crucial for making informed decisions in various field such as business , healthcare etc."
      ],
      "metadata": {
        "id": "yi5Tgl3c_SxK"
      }
    },
    {
      "cell_type": "markdown",
      "source": [
        "2. What are two main types of statistics ?\n",
        "\n",
        "  --> The two main types of statistics are\n",
        "\n",
        "  1) Descriptive statistics\n",
        "\n",
        "  2) Inferential statistics."
      ],
      "metadata": {
        "id": "TV1pwKkX_UbO"
      }
    },
    {
      "cell_type": "markdown",
      "source": [
        "3. What are descriptive statistics ?\n",
        "\n",
        "--> Descriptive statistics involve summarizing and describing the basic feartures of data , such as mean , median and mode and standard deviation."
      ],
      "metadata": {
        "id": "cEC2zO-5_WG_"
      }
    },
    {
      "cell_type": "markdown",
      "source": [
        "4. What are inferential statistics\n",
        "\n",
        "--> Inferential statistics involve using sample data to make inferences or conclusions about a larger population."
      ],
      "metadata": {
        "id": "YOUjcUea_WSP"
      }
    },
    {
      "cell_type": "markdown",
      "source": [
        "5. What is sampling in statistics ?\n",
        "\n",
        "-->Sampling is the process of selecting a subset of individuals or data points from a larger population to make inferences about the whole population."
      ],
      "metadata": {
        "id": "oU_l8AbD_aNP"
      }
    },
    {
      "cell_type": "markdown",
      "source": [
        "6. What arethe different types of sampling methods ?\n",
        "\n",
        "-->Types of sampling methods are random sampling , stratified sampling , systematic sampling and cluster sampling ."
      ],
      "metadata": {
        "id": "pZT7Odm3C8e2"
      }
    },
    {
      "cell_type": "markdown",
      "source": [
        "7. What is the difference between random and non-random sampling ?\n",
        "\n",
        "--> Random sampling gives every member of the population an equal chance of being salected. While non-random sampling does not ."
      ],
      "metadata": {
        "id": "fa8lpggwC9ts"
      }
    },
    {
      "cell_type": "markdown",
      "source": [
        "8. Define and give examples of qualitative and quantitative data ?\n",
        "\n",
        "--> Qualitative data is non-numerical (e.g gender,color).\n",
        "\n",
        "   Quantitative data is numerical (e.g height , weight)."
      ],
      "metadata": {
        "id": "tMP-X21GC-ol"
      }
    },
    {
      "cell_type": "markdown",
      "source": [
        "9. What are the different types of data in statistics ?\n",
        "\n",
        "--> Data can be nominal , ordinal , interval or ratio."
      ],
      "metadata": {
        "id": "jFCqcFqrC_q7"
      }
    },
    {
      "cell_type": "markdown",
      "source": [
        "10. Explain nominal, ordinal , interval and ratio levels of measurement ?\n",
        "\n",
        "--> Nominal : categories without order (e.g gender)\n",
        "\n",
        "Ordinal : ordered categories (e.g satisfaction levels)\n",
        "\n",
        "Interval : numerical values with equal intervals but no true zero (e.g temperature)\n",
        "\n",
        "Ratio : numerical values with a true zero (e.g weight )"
      ],
      "metadata": {
        "id": "zJKxFtJKDA_8"
      }
    },
    {
      "cell_type": "markdown",
      "source": [
        "11. What is the measure of central tendency ?\n",
        "\n",
        "--> Measure of central tendency (mean, median , mode ) describe the central or typical value in a dataset."
      ],
      "metadata": {
        "id": "Bvd2y3TKF38m"
      }
    },
    {
      "cell_type": "markdown",
      "source": [
        "12. Define mean , median and mode?\n",
        "\n",
        "--> Mean : average of all values .\n",
        "\n",
        "    Median : middle value when data is stored.\n",
        "\n",
        "    Mode : most frequently occuring value."
      ],
      "metadata": {
        "id": "xeyzBhYDF5SJ"
      }
    },
    {
      "cell_type": "markdown",
      "source": [
        "13. What is the significance of the measure of centralal tendency ?\n",
        "\n",
        "--> It provides a single value that represents the entire dataset."
      ],
      "metadata": {
        "id": "lakRSqHIF6Jm"
      }
    },
    {
      "cell_type": "markdown",
      "source": [
        "14. What is variance , and how it is calculated ?\n",
        "\n",
        "\n",
        "--> Variance measure the spread of data points around the mean .\n",
        "\n",
        "It is calculated as the average of the squared differences from the mean."
      ],
      "metadata": {
        "id": "lPUk2zkhF7QL"
      }
    },
    {
      "cell_type": "markdown",
      "source": [
        "15. What is standard deviation , and why it is important ?\n",
        "\n",
        "--> Standard deviation is the square root of variance a, indicating how much data points deviate from the mean ."
      ],
      "metadata": {
        "id": "aevHReLWF8xH"
      }
    },
    {
      "cell_type": "markdown",
      "source": [
        "16. Define and eplain the term range in statistics ?\n",
        "\n",
        "--> Range is the difference between the highest and lowest values in a dataset (spreadsheet )"
      ],
      "metadata": {
        "id": "a8vU5sR5Id_u"
      }
    },
    {
      "cell_type": "markdown",
      "source": [
        "17. What is the difference between variance and standard deviation ?\n",
        "\n",
        "--> Variances is a squared units. while standard deviation is in the same unit as the data."
      ],
      "metadata": {
        "id": "tk4aOpIfIfCt"
      }
    },
    {
      "cell_type": "markdown",
      "source": [
        "18. What is skewness in a dataset?\n",
        "\n",
        "--> Skewness measures the asymmetry of the probability distribution of a real-valued random variable."
      ],
      "metadata": {
        "id": "dV1eHwq-Ig5j"
      }
    },
    {
      "cell_type": "markdown",
      "source": [
        "19. What does it mean if a dataset is positively or negatively skewed ?\n",
        "\n",
        "--> Positive skewness indicates a longer tail on the right side.\n",
        "\n",
        "Negative skewness indicates a longer tail on the left."
      ],
      "metadata": {
        "id": "RoXmYuOjIiJU"
      }
    },
    {
      "cell_type": "markdown",
      "source": [
        "20. Define and explain kurtosis ?\n",
        "\n",
        "--> Kurtosis measures the \"tailedness \" of the probability distribution .High kurtosis indicates heavy tails."
      ],
      "metadata": {
        "id": "0a9SuEKcIjYR"
      }
    },
    {
      "cell_type": "markdown",
      "source": [
        "21. What is the purpose of covariance ?\n",
        "\n",
        "-->Covariance measures how much two variables change together .\n",
        "\n"
      ],
      "metadata": {
        "id": "BUTFx9QlLTdl"
      }
    },
    {
      "cell_type": "markdown",
      "source": [
        "22. What does correlation measure in statistics ?\n",
        "\n",
        "--> Correlation measure the strength and direction of a linear relationship between two variables."
      ],
      "metadata": {
        "id": "2L8THidALUBj"
      }
    },
    {
      "cell_type": "markdown",
      "source": [
        "23. What is the difference between covariance and correlation ?\n",
        "\n",
        "--> Covariance is not standardized , while correlation is standardized between -1 and 1."
      ],
      "metadata": {
        "id": "3K8_DDm_LUfl"
      }
    },
    {
      "cell_type": "markdown",
      "source": [
        "24. What are some real-world appliciation of statistics ?\n",
        "\n",
        "==> Stastictics is used in business forecasting , medical research , social science a"
      ],
      "metadata": {
        "id": "PnrMn5oULVB6"
      }
    },
    {
      "cell_type": "markdown",
      "source": [
        "PRATICALS #"
      ],
      "metadata": {
        "id": "SZ8I0KlTTJe9"
      }
    },
    {
      "cell_type": "markdown",
      "source": [
        "1. How do you calculate the mean , median and mode of a dataset."
      ],
      "metadata": {
        "id": "fj5NzwTWTL1G"
      }
    },
    {
      "cell_type": "code",
      "source": [
        "import numpy as np\n",
        "from scipy import stats\n",
        "\n",
        "def calculate_stats(dataset):\n",
        "\n",
        "   mean = np.mean(dataset)\n",
        "   median = np.median(dataset)\n",
        "   mode = stats.mode(dataset)\n",
        "   return mean, median, mode\n",
        "dataset = [2,4,6,6,8,9,4]\n",
        "mean, median, mode = calculate_stats(dataset)\n",
        "print(\"Mean:\", mean)\n",
        "print(\"Median:\", median)\n",
        "print(\"Mode:\", mode)\n"
      ],
      "metadata": {
        "colab": {
          "base_uri": "https://localhost:8080/"
        },
        "id": "plr3gbvPTVoM",
        "outputId": "aef0e543-4a5f-4363-bfb2-d8a800238107"
      },
      "execution_count": null,
      "outputs": [
        {
          "output_type": "stream",
          "name": "stdout",
          "text": [
            "Mean: 5.571428571428571\n",
            "Median: 6.0\n",
            "Mode: ModeResult(mode=np.int64(4), count=np.int64(2))\n"
          ]
        }
      ]
    },
    {
      "cell_type": "markdown",
      "source": [
        "2.  Write a Python program to compute the variance nd standard deviation of a dataset ."
      ],
      "metadata": {
        "id": "-xkhcBqgUkvA"
      }
    },
    {
      "cell_type": "code",
      "source": [
        "import numpy as np\n",
        "\n",
        "def calculate_stats(dataset):\n",
        "\n",
        "   variance = np.var(dataset)\n",
        "   std_dev = np.std(dataset)\n",
        "   return variance, std_dev\n",
        "dataset = [2,4,6,6,8,9,4]\n",
        "variance, std_dev = calculate_stats(dataset)\n",
        "print(\"Variance:\", variance)\n",
        "print(\"Standard Deviation:\", std_dev)"
      ],
      "metadata": {
        "colab": {
          "base_uri": "https://localhost:8080/"
        },
        "id": "1stYLLOrYLW1",
        "outputId": "52b3ec48-af08-4e3f-9c51-364d63340c37"
      },
      "execution_count": null,
      "outputs": [
        {
          "output_type": "stream",
          "name": "stdout",
          "text": [
            "Variance: 5.1020408163265305\n",
            "Standard Deviation: 2.2587697572631282\n"
          ]
        }
      ]
    },
    {
      "cell_type": "markdown",
      "source": [
        "3. Create a dataset and classify it into nomial , ordinal , interval and ratio types."
      ],
      "metadata": {
        "id": "puF45TbxUkhZ"
      }
    },
    {
      "cell_type": "code",
      "source": [
        "import pandas as pd\n",
        "data= {\n",
        "      'nominal' : ['red','blue','green','red', 'blue'],\n",
        "      'ordinal': ['low','medium','high','low','medium'],\n",
        "       'interval':[20, 25, 30, 20, 25],\n",
        "       'ratio':[10, 20, 30, 40, 50]\n",
        "       }\n",
        "df=pd.DataFrame(data)\n",
        "print(df)"
      ],
      "metadata": {
        "colab": {
          "base_uri": "https://localhost:8080/"
        },
        "id": "w9Z0xqNIYo_7",
        "outputId": "6f65545d-9c91-419f-ece2-777d576aab3d"
      },
      "execution_count": null,
      "outputs": [
        {
          "output_type": "stream",
          "name": "stdout",
          "text": [
            "  nominal ordinal  interval  ratio\n",
            "0     red     low        20     10\n",
            "1    blue  medium        25     20\n",
            "2   green    high        30     30\n",
            "3     red     low        20     40\n",
            "4    blue  medium        25     50\n"
          ]
        }
      ]
    },
    {
      "cell_type": "markdown",
      "source": [
        "4. Implement sampling techniques like random sampling and stratified sampling."
      ],
      "metadata": {
        "id": "STvQGNHMUkQz"
      }
    },
    {
      "cell_type": "code",
      "source": [
        "import pandas as pd\n",
        "import numpy as np\n",
        "from sklearn.model_selection import train_test_split\n",
        "data = {\n",
        "    'features1': [1, 2, 3, 4, 5, 6, 7, 8, 9, 10],\n",
        "    'features2': [10, 20, 30, 40, 50, 60,70, 80, 90, 100],\n",
        "    'target': [0, 0, 0, 0, 0, 1, 1, 1, 1, 1]\n",
        "}\n",
        "df = pd.DataFrame(data)\n",
        "random_sample = df.sample(n=5, random_state=42)\n",
        "print(\"Random Sample:\")\n",
        "print(random_sample)\n",
        "stratified_sample = train_test_split(df, test_size=0.5, stratify=df['target'], random_state=42)\n",
        "print(\"\\n Stratified Sample:\")\n",
        "print(stratified_sample)"
      ],
      "metadata": {
        "colab": {
          "base_uri": "https://localhost:8080/"
        },
        "id": "htSbYCpuaZUO",
        "outputId": "c6a4ab70-fab1-49ff-f90d-868997ffd241"
      },
      "execution_count": null,
      "outputs": [
        {
          "output_type": "stream",
          "name": "stdout",
          "text": [
            "Random Sample:\n",
            "   features1  features2  target\n",
            "8          9         90       1\n",
            "1          2         20       0\n",
            "5          6         60       1\n",
            "0          1         10       0\n",
            "7          8         80       1\n",
            "\n",
            " Stratified Sample:\n",
            "[   features1  features2  target\n",
            "4          5         50       0\n",
            "1          2         20       0\n",
            "6          7         70       1\n",
            "7          8         80       1\n",
            "8          9         90       1,    features1  features2  target\n",
            "2          3         30       0\n",
            "0          1         10       0\n",
            "3          4         40       0\n",
            "5          6         60       1\n",
            "9         10        100       1]\n"
          ]
        }
      ]
    },
    {
      "cell_type": "markdown",
      "source": [
        "5. write a Python function to calculate the range of a dataset."
      ],
      "metadata": {
        "id": "QV6jQi-xUkAV"
      }
    },
    {
      "cell_type": "code",
      "source": [
        "def calculate_range(data):\n",
        "  return max(data) - min(data)\n",
        "data = [1,2,3,4,5,6]\n",
        "print(\"Range\", calculate_range(data))"
      ],
      "metadata": {
        "colab": {
          "base_uri": "https://localhost:8080/"
        },
        "id": "X5xcs6BubReW",
        "outputId": "ca1bf1d3-3b22-41b1-b63c-efa195549129"
      },
      "execution_count": 78,
      "outputs": [
        {
          "output_type": "stream",
          "name": "stdout",
          "text": [
            "Range 5\n"
          ]
        }
      ]
    },
    {
      "cell_type": "markdown",
      "source": [
        "6. Create a dataset and plot its histogram to visualize skewness ."
      ],
      "metadata": {
        "id": "-DntF4ZjUjvM"
      }
    },
    {
      "cell_type": "code",
      "source": [
        "import matplotlib.pyplot as plt\n",
        "import numpy as np\n",
        "data = np.random.normal(0, 1, 100)\n",
        "plt.hist(data, bins=30 , density=True)\n",
        "plt.xlabel('Value')\n",
        "plt.ylabel('Frequency')\n",
        "plt.title('Histogram of Data')\n",
        "plt.show()"
      ],
      "metadata": {
        "colab": {
          "base_uri": "https://localhost:8080/",
          "height": 472
        },
        "id": "U4SWEhnCdrk_",
        "outputId": "39c9633f-5f8c-45ad-e884-f44bfb24863d"
      },
      "execution_count": null,
      "outputs": [
        {
          "output_type": "display_data",
          "data": {
            "text/plain": [
              "<Figure size 640x480 with 1 Axes>"
            ],
            "image/png": "[encoded data removed]"
          },
          "metadata": {}
        }
      ]
    },
    {
      "cell_type": "markdown",
      "source": [
        "7. Calculate skewness and kurtosis of a dataset using Python libraries ."
      ],
      "metadata": {
        "id": "T7zC6R50Ujfp"
      }
    },
    {
      "cell_type": "code",
      "source": [
        "import numpy as np\n",
        "from scipy.stats import skew, kurtosis\n",
        "data = np.random.normal(0, 1, 2000)\n",
        "skewness = skew(data)\n",
        "kurtosis_value = kurtosis(data)\n",
        "print(\"Skewness:\", skewness)\n",
        "print(\"Kurtosis:\", kurtosis_value)"
      ],
      "metadata": {
        "colab": {
          "base_uri": "https://localhost:8080/"
        },
        "id": "WON3s8ONd-s1",
        "outputId": "22299fa9-23f8-4b48-8bf8-690b69791c6b"
      },
      "execution_count": null,
      "outputs": [
        {
          "output_type": "stream",
          "name": "stdout",
          "text": [
            "Skewness: 0.09536924089841599\n",
            "Kurtosis: -0.0038173776741263765\n"
          ]
        }
      ]
    },
    {
      "cell_type": "markdown",
      "source": [
        "8. Generate a dataset and demonstrate positive and negative skewness"
      ],
      "metadata": {
        "id": "n1o-53pLcqTJ"
      }
    },
    {
      "cell_type": "code",
      "source": [
        "import numpy as np\n",
        "import matplotlib.pyplot as plt\n",
        "from scipy import stats\n",
        "data_positive = np.random.normal(0, 1, 1000)\n",
        "data_negative = np.random.normal(-10, 1, 1000)\n",
        "plt.title('Histogram of Data')\n",
        "plt.xlabel('Value')\n",
        "plt.ylabel('Frequency')\n",
        "plt.hist(data_positive, bins=30, color='red', density=True, alpha=0.5, label='Positive Skewed',edgecolor='black')\n",
        "plt.hist(data_negative, bins=30, color='blue',density=True, alpha=0.5, label='Negative Skewed',edgecolor='black')"
      ],
      "metadata": {
        "colab": {
          "base_uri": "https://localhost:8080/",
          "height": 732
        },
        "id": "xxcWj2w7eQgX",
        "outputId": "064c821a-2453-4a08-cfb3-74d285f9a537"
      },
      "execution_count": 89,
      "outputs": [
        {
          "output_type": "execute_result",
          "data": {
            "text/plain": [
              "(array([0.004962  , 0.00992399, 0.00992399, 0.01488599, 0.01984799,\n",
              "        0.02977198, 0.08435395, 0.18359389, 0.13893592, 0.13397392,\n",
              "        0.29275782, 0.32252981, 0.31756781, 0.36222578, 0.37711177,\n",
              "        0.48627571, 0.3423778 , 0.36222578, 0.3374158 , 0.27290984,\n",
              "        0.22825186, 0.15382191, 0.18359389, 0.11412593, 0.07939195,\n",
              "        0.03969598, 0.03473398, 0.00992399, 0.00992399, 0.004962  ]),\n",
              " array([-13.11685659, -12.91532483, -12.71379307, -12.51226131,\n",
              "        -12.31072955, -12.10919779, -11.90766602, -11.70613426,\n",
              "        -11.5046025 , -11.30307074, -11.10153898, -10.90000722,\n",
              "        -10.69847546, -10.4969437 , -10.29541194, -10.09388017,\n",
              "         -9.89234841,  -9.69081665,  -9.48928489,  -9.28775313,\n",
              "         -9.08622137,  -8.88468961,  -8.68315785,  -8.48162609,\n",
              "         -8.28009432,  -8.07856256,  -7.8770308 ,  -7.67549904,\n",
              "         -7.47396728,  -7.27243552,  -7.07090376]),\n",
              " <BarContainer object of 30 artists>)"
            ]
          },
          "metadata": {},
          "execution_count": 89
        },
        {
          "output_type": "display_data",
          "data": {
            "text/plain": [
              "<Figure size 640x480 with 1 Axes>"
            ],
            "image/png": "[encoded data removed]"
          },
          "metadata": {}
        }
      ]
    },
    {
      "cell_type": "markdown",
      "source": [
        "9. Write  a Python script to calculate covariance between two dataset."
      ],
      "metadata": {
        "id": "GiYJiLT6c1Fb"
      }
    },
    {
      "cell_type": "code",
      "source": [
        "import numpy as np\n",
        "def calculate_covariance(x, y):\n",
        "  x_mean = np.mean(x)\n",
        "  y_mean = np.mean(y)\n",
        "  covariance = np.sum((x - x_mean) * (y - y_mean)) / (len(x) - 1)\n",
        "  return covariance\n",
        "x = np.array([1, 2, 3, 4, 5])\n",
        "y = np.array([5, 4, 3, 2, 1])\n",
        "covariance = calculate_covariance(x, y)\n",
        "print(\"Covariance:\", covariance)"
      ],
      "metadata": {
        "colab": {
          "base_uri": "https://localhost:8080/"
        },
        "id": "AR-fugxcffG8",
        "outputId": "280391be-d2cb-4ec5-e508-9ab4d2d340a2"
      },
      "execution_count": null,
      "outputs": [
        {
          "output_type": "stream",
          "name": "stdout",
          "text": [
            "Covariance: -2.5\n"
          ]
        }
      ]
    },
    {
      "cell_type": "markdown",
      "source": [
        "10. Write a Python script to calculate the correlation coefficient between two dataset."
      ],
      "metadata": {
        "id": "9LJCfWjddETz"
      }
    },
    {
      "cell_type": "code",
      "source": [
        "import numpy as np\n",
        "correlation_coefficient = np.corrcoef(x, y)[0, 1]\n",
        "print(\"Correlation Coefficient:\", correlation_coefficient)"
      ],
      "metadata": {
        "colab": {
          "base_uri": "https://localhost:8080/"
        },
        "id": "1qXCvId2fxsa",
        "outputId": "bae9dcbd-6874-49a9-a277-3b7f5546a857"
      },
      "execution_count": null,
      "outputs": [
        {
          "output_type": "stream",
          "name": "stdout",
          "text": [
            "Correlation Coefficient: -0.9999999999999999\n"
          ]
        }
      ]
    },
    {
      "cell_type": "markdown",
      "source": [
        "11. Create a scatter plot to visualize the relationship between two variables."
      ],
      "metadata": {
        "id": "dQaDTnUfdVW6"
      }
    },
    {
      "cell_type": "code",
      "source": [
        "import matplotlib.pyplot as plt\n",
        "data1 = [1, 2, 3, 4, 5]\n",
        "data2 = [5, 4, 3, 2, 1]\n",
        "plt.scatter(data1, data2, alpha=0.7, color='green', edgecolors='black' )\n",
        "plt.title('scatter plot of two variables')\n",
        "plt.xlabel('variable1')\n",
        "plt.ylabel('variable2')\n",
        "plt.show()"
      ],
      "metadata": {
        "colab": {
          "base_uri": "https://localhost:8080/",
          "height": 472
        },
        "id": "ngTMGTLZgDpr",
        "outputId": "c99325d9-75f2-4208-ca85-4635dbd1110d"
      },
      "execution_count": null,
      "outputs": [
        {
          "output_type": "display_data",
          "data": {
            "text/plain": [
              "<Figure size 640x480 with 1 Axes>"
            ],
            "image/png": "[encoded data removed]"
          },
          "metadata": {}
        }
      ]
    },
    {
      "cell_type": "markdown",
      "source": [
        "12. Implement and compare simple random sampling and systematic sampling."
      ],
      "metadata": {
        "id": "J2H_-ciGdhLK"
      }
    },
    {
      "cell_type": "code",
      "source": [
        "import numpy as np\n",
        "population = np.arange(1, 100)\n",
        "random_sample = np. random. choice(population, size=10, replace=False)\n",
        "start_index = np. random. randint(0, 10)\n",
        "systematic_sample= population[start_index::10]\n",
        "print(\"simple random sample\", random_sample)\n",
        "print(\"System Sample\", systematic_sample)"
      ],
      "metadata": {
        "id": "ftnbAKw4h42G",
        "colab": {
          "base_uri": "https://localhost:8080/"
        },
        "outputId": "ad17eeda-d72a-4b11-d4c1-36e485583a1f"
      },
      "execution_count": null,
      "outputs": [
        {
          "output_type": "stream",
          "name": "stdout",
          "text": [
            "simple random sample [23 95 93 41 43 12 87 56 45  6]\n",
            "System Sample [ 9 19 29 39 49 59 69 79 89 99]\n"
          ]
        }
      ]
    },
    {
      "cell_type": "markdown",
      "source": [
        "13. Calculate the mean , median , and mode of grouped data."
      ],
      "metadata": {
        "id": "UFN9SsbUkAAU"
      }
    },
    {
      "cell_type": "code",
      "source": [
        "import pandas as pd\n",
        "data={ 'class':['A','B','C'], 'Frequency':[10,20,15]}\n",
        "df=pd.DataFrame(data)\n",
        "mean=df['Frequency'].mean()\n",
        "median=df['Frequency'].median()\n",
        "mode=df['Frequency'].mode().values[0]\n",
        "print(\"Mean:\", mean)\n",
        "print(\"Median:\", median)\n",
        "print(\"Mode:\", mode)"
      ],
      "metadata": {
        "colab": {
          "base_uri": "https://localhost:8080/"
        },
        "id": "k0rItQqlmt2r",
        "outputId": "5b52befe-7a21-42e9-ca6b-7a7065c65577"
      },
      "execution_count": null,
      "outputs": [
        {
          "output_type": "stream",
          "name": "stdout",
          "text": [
            "Mean: 15.0\n",
            "Median: 15.0\n",
            "Mode: 10\n"
          ]
        }
      ]
    },
    {
      "cell_type": "markdown",
      "source": [
        "14. Simulate data using Python and calculate its central tendency and dispersion."
      ],
      "metadata": {
        "id": "TJRFykurkBna"
      }
    },
    {
      "cell_type": "code",
      "source": [
        "import numpy as np\n",
        "np.random.seed(0)\n",
        "data = np.random.normal(0, 1, 100)\n",
        "mean = np.mean(data)\n",
        "median = np.median(data)\n",
        "std_dev = np.std(data)\n",
        "variance = np.var(data)\n",
        "range_data = np.max(data) - np.min(data)\n",
        "iqr = np.percentile(data, 75) - np.percentile(data, 25)\n",
        "print(\"Central Tendency:\")\n",
        "print(\"Mean:\", mean)\n",
        "print(\"Median:\", median)\n",
        "print(\"Mode:\", mode)\n",
        "print(\"Dispersion:\")\n",
        "print(\"Standard Deviation:\", std_dev)\n",
        "print(\"Variance:\", variance)\n",
        "print(\"Range:\", range_data)\n",
        "print(\"Interquartile Range (IQR):\", iqr)"
      ],
      "metadata": {
        "colab": {
          "base_uri": "https://localhost:8080/"
        },
        "id": "h3kYRa5moWbm",
        "outputId": "8df8a687-2e55-48bc-c6d1-82b59ed8ab3e"
      },
      "execution_count": 81,
      "outputs": [
        {
          "output_type": "stream",
          "name": "stdout",
          "text": [
            "Central Tendency:\n",
            "Mean: 0.059808015534485\n",
            "Median: 0.09409611943799814\n",
            "Mode: 10\n",
            "Dispersion:\n",
            "Standard Deviation: 1.0078822447165796\n",
            "Variance: 1.0158266192149312\n",
            "Range: 4.822744439821687\n",
            "Interquartile Range (IQR): 1.3809340351246115\n"
          ]
        }
      ]
    },
    {
      "cell_type": "markdown",
      "source": [
        "15.  Use NumPy or pandas to summarize a dataset's descriptive statistics."
      ],
      "metadata": {
        "id": "TvTB9UkvkDKi"
      }
    },
    {
      "cell_type": "code",
      "source": [
        "import pandas as pd\n",
        "import numpy as np\n",
        "data = np.random.normal(100, 3, (100, 3))\n",
        "df = pd.DataFrame(data, columns=['A', 'B', 'c'])\n",
        "df.head()\n",
        "df.describe()"
      ],
      "metadata": {
        "colab": {
          "base_uri": "https://localhost:8080/",
          "height": 300
        },
        "id": "vTyK_VkFomTg",
        "outputId": "1c53a0a1-3703-466c-94e5-6288dc726c94"
      },
      "execution_count": null,
      "outputs": [
        {
          "output_type": "execute_result",
          "data": {
            "text/plain": [
              "                A           B           c\n",
              "count  100.000000  100.000000  100.000000\n",
              "mean    99.954865  100.611657  100.020582\n",
              "std      2.754509    2.831421    2.808249\n",
              "min     92.583547   91.628001   91.299800\n",
              "25%     97.995789   98.992671   97.878021\n",
              "50%    100.048337  100.647382  100.105720\n",
              "75%    101.576210  102.432907  101.825006\n",
              "max    107.897393  106.636249  105.821312"
            ],
            "text/html": [
              "\n",
              "  <div id=\"df-bbcfca95-9fc4-49e2-aed1-9bd2ee06afa6\" class=\"colab-df-container\">\n",
              "    <div>\n",
              "<style scoped>\n",
              "    .dataframe tbody tr th:only-of-type {\n",
              "        vertical-align: middle;\n",
              "    }\n",
              "\n",
              "    .dataframe tbody tr th {\n",
              "        vertical-align: top;\n",
              "    }\n",
              "\n",
              "    .dataframe thead th {\n",
              "        text-align: right;\n",
              "    }\n",
              "</style>\n",
              "<table border=\"1\" class=\"dataframe\">\n",
              "  <thead>\n",
              "    <tr style=\"text-align: right;\">\n",
              "      <th></th>\n",
              "      <th>A</th>\n",
              "      <th>B</th>\n",
              "      <th>c</th>\n",
              "    </tr>\n",
              "  </thead>\n",
              "  <tbody>\n",
              "    <tr>\n",
              "      <th>count</th>\n",
              "      <td>100.000000</td>\n",
              "      <td>100.000000</td>\n",
              "      <td>100.000000</td>\n",
              "    </tr>\n",
              "    <tr>\n",
              "      <th>mean</th>\n",
              "      <td>99.954865</td>\n",
              "      <td>100.611657</td>\n",
              "      <td>100.020582</td>\n",
              "    </tr>\n",
              "    <tr>\n",
              "      <th>std</th>\n",
              "      <td>2.754509</td>\n",
              "      <td>2.831421</td>\n",
              "      <td>2.808249</td>\n",
              "    </tr>\n",
              "    <tr>\n",
              "      <th>min</th>\n",
              "      <td>92.583547</td>\n",
              "      <td>91.628001</td>\n",
              "      <td>91.299800</td>\n",
              "    </tr>\n",
              "    <tr>\n",
              "      <th>25%</th>\n",
              "      <td>97.995789</td>\n",
              "      <td>98.992671</td>\n",
              "      <td>97.878021</td>\n",
              "    </tr>\n",
              "    <tr>\n",
              "      <th>50%</th>\n",
              "      <td>100.048337</td>\n",
              "      <td>100.647382</td>\n",
              "      <td>100.105720</td>\n",
              "    </tr>\n",
              "    <tr>\n",
              "      <th>75%</th>\n",
              "      <td>101.576210</td>\n",
              "      <td>102.432907</td>\n",
              "      <td>101.825006</td>\n",
              "    </tr>\n",
              "    <tr>\n",
              "      <th>max</th>\n",
              "      <td>107.897393</td>\n",
              "      <td>106.636249</td>\n",
              "      <td>105.821312</td>\n",
              "    </tr>\n",
              "  </tbody>\n",
              "</table>\n",
              "</div>\n",
              "    <div class=\"colab-df-buttons\">\n",
              "\n",
              "  <div class=\"colab-df-container\">\n",
              "    <button class=\"colab-df-convert\" onclick=\"convertToInteractive('df-bbcfca95-9fc4-49e2-aed1-9bd2ee06afa6')\"\n",
              "            title=\"Convert this dataframe to an interactive table.\"\n",
              "            style=\"display:none;\">\n",
              "\n",
              "  <svg xmlns=\"http://www.w3.org/2000/svg\" height=\"24px\" viewBox=\"0 -960 960 960\">\n",
              "    <path d=\"M120-120v-720h720v720H120Zm60-500h600v-160H180v160Zm220 220h160v-160H400v160Zm0 220h160v-160H400v160ZM180-400h160v-160H180v160Zm440 0h160v-160H620v160ZM180-180h160v-160H180v160Zm440 0h160v-160H620v160Z\"/>\n",
              "  </svg>\n",
              "    </button>\n",
              "\n",
              "  <style>\n",
              "    .colab-df-container {\n",
              "      display:flex;\n",
              "      gap: 12px;\n",
              "    }\n",
              "\n",
              "    .colab-df-convert {\n",
              "      background-color: #E8F0FE;\n",
              "      border: none;\n",
              "      border-radius: 50%;\n",
              "      cursor: pointer;\n",
              "      display: none;\n",
              "      fill: #1967D2;\n",
              "      height: 32px;\n",
              "      padding: 0 0 0 0;\n",
              "      width: 32px;\n",
              "    }\n",
              "\n",
              "    .colab-df-convert:hover {\n",
              "      background-color: #E2EBFA;\n",
              "      box-shadow: 0px 1px 2px rgba(60, 64, 67, 0.3), 0px 1px 3px 1px rgba(60, 64, 67, 0.15);\n",
              "      fill: #174EA6;\n",
              "    }\n",
              "\n",
              "    .colab-df-buttons div {\n",
              "      margin-bottom: 4px;\n",
              "    }\n",
              "\n",
              "    [theme=dark] .colab-df-convert {\n",
              "      background-color: #3B4455;\n",
              "      fill: #D2E3FC;\n",
              "    }\n",
              "\n",
              "    [theme=dark] .colab-df-convert:hover {\n",
              "      background-color: #434B5C;\n",
              "      box-shadow: 0px 1px 3px 1px rgba(0, 0, 0, 0.15);\n",
              "      filter: drop-shadow(0px 1px 2px rgba(0, 0, 0, 0.3));\n",
              "      fill: #FFFFFF;\n",
              "    }\n",
              "  </style>\n",
              "\n",
              "    <script>\n",
              "      const buttonEl =\n",
              "        document.querySelector('#df-bbcfca95-9fc4-49e2-aed1-9bd2ee06afa6 button.colab-df-convert');\n",
              "      buttonEl.style.display =\n",
              "        google.colab.kernel.accessAllowed ? 'block' : 'none';\n",
              "\n",
              "      async function convertToInteractive(key) {\n",
              "        const element = document.querySelector('#df-bbcfca95-9fc4-49e2-aed1-9bd2ee06afa6');\n",
              "        const dataTable =\n",
              "          await google.colab.kernel.invokeFunction('convertToInteractive',\n",
              "                                                    [key], {});\n",
              "        if (!dataTable) return;\n",
              "\n",
              "        const docLinkHtml = 'Like what you see? Visit the ' +\n",
              "          '<a target=\"_blank\" href=https://colab.research.google.com/notebooks/data_table.ipynb>data table notebook</a>'\n",
              "          + ' to learn more about interactive tables.';\n",
              "        element.innerHTML = '';\n",
              "        dataTable['output_type'] = 'display_data';\n",
              "        await google.colab.output.renderOutput(dataTable, element);\n",
              "        const docLink = document.createElement('div');\n",
              "        docLink.innerHTML = docLinkHtml;\n",
              "        element.appendChild(docLink);\n",
              "      }\n",
              "    </script>\n",
              "  </div>\n",
              "\n",
              "\n",
              "    <div id=\"df-de0fdaa6-f64f-4748-a573-147e211f42f5\">\n",
              "      <button class=\"colab-df-quickchart\" onclick=\"quickchart('df-de0fdaa6-f64f-4748-a573-147e211f42f5')\"\n",
              "                title=\"Suggest charts\"\n",
              "                style=\"display:none;\">\n",
              "\n",
              "<svg xmlns=\"http://www.w3.org/2000/svg\" height=\"24px\"viewBox=\"0 0 24 24\"\n",
              "     width=\"24px\">\n",
              "    <g>\n",
              "        <path d=\"M19 3H5c-1.1 0-2 .9-2 2v14c0 1.1.9 2 2 2h14c1.1 0 2-.9 2-2V5c0-1.1-.9-2-2-2zM9 17H7v-7h2v7zm4 0h-2V7h2v10zm4 0h-2v-4h2v4z\"/>\n",
              "    </g>\n",
              "</svg>\n",
              "      </button>\n",
              "\n",
              "<style>\n",
              "  .colab-df-quickchart {\n",
              "      --bg-color: #E8F0FE;\n",
              "      --fill-color: #1967D2;\n",
              "      --hover-bg-color: #E2EBFA;\n",
              "      --hover-fill-color: #174EA6;\n",
              "      --disabled-fill-color: #AAA;\n",
              "      --disabled-bg-color: #DDD;\n",
              "  }\n",
              "\n",
              "  [theme=dark] .colab-df-quickchart {\n",
              "      --bg-color: #3B4455;\n",
              "      --fill-color: #D2E3FC;\n",
              "      --hover-bg-color: #434B5C;\n",
              "      --hover-fill-color: #FFFFFF;\n",
              "      --disabled-bg-color: #3B4455;\n",
              "      --disabled-fill-color: #666;\n",
              "  }\n",
              "\n",
              "  .colab-df-quickchart {\n",
              "    background-color: var(--bg-color);\n",
              "    border: none;\n",
              "    border-radius: 50%;\n",
              "    cursor: pointer;\n",
              "    display: none;\n",
              "    fill: var(--fill-color);\n",
              "    height: 32px;\n",
              "    padding: 0;\n",
              "    width: 32px;\n",
              "  }\n",
              "\n",
              "  .colab-df-quickchart:hover {\n",
              "    background-color: var(--hover-bg-color);\n",
              "    box-shadow: 0 1px 2px rgba(60, 64, 67, 0.3), 0 1px 3px 1px rgba(60, 64, 67, 0.15);\n",
              "    fill: var(--button-hover-fill-color);\n",
              "  }\n",
              "\n",
              "  .colab-df-quickchart-complete:disabled,\n",
              "  .colab-df-quickchart-complete:disabled:hover {\n",
              "    background-color: var(--disabled-bg-color);\n",
              "    fill: var(--disabled-fill-color);\n",
              "    box-shadow: none;\n",
              "  }\n",
              "\n",
              "  .colab-df-spinner {\n",
              "    border: 2px solid var(--fill-color);\n",
              "    border-color: transparent;\n",
              "    border-bottom-color: var(--fill-color);\n",
              "    animation:\n",
              "      spin 1s steps(1) infinite;\n",
              "  }\n",
              "\n",
              "  @keyframes spin {\n",
              "    0% {\n",
              "      border-color: transparent;\n",
              "      border-bottom-color: var(--fill-color);\n",
              "      border-left-color: var(--fill-color);\n",
              "    }\n",
              "    20% {\n",
              "      border-color: transparent;\n",
              "      border-left-color: var(--fill-color);\n",
              "      border-top-color: var(--fill-color);\n",
              "    }\n",
              "    30% {\n",
              "      border-color: transparent;\n",
              "      border-left-color: var(--fill-color);\n",
              "      border-top-color: var(--fill-color);\n",
              "      border-right-color: var(--fill-color);\n",
              "    }\n",
              "    40% {\n",
              "      border-color: transparent;\n",
              "      border-right-color: var(--fill-color);\n",
              "      border-top-color: var(--fill-color);\n",
              "    }\n",
              "    60% {\n",
              "      border-color: transparent;\n",
              "      border-right-color: var(--fill-color);\n",
              "    }\n",
              "    80% {\n",
              "      border-color: transparent;\n",
              "      border-right-color: var(--fill-color);\n",
              "      border-bottom-color: var(--fill-color);\n",
              "    }\n",
              "    90% {\n",
              "      border-color: transparent;\n",
              "      border-bottom-color: var(--fill-color);\n",
              "    }\n",
              "  }\n",
              "</style>\n",
              "\n",
              "      <script>\n",
              "        async function quickchart(key) {\n",
              "          const quickchartButtonEl =\n",
              "            document.querySelector('#' + key + ' button');\n",
              "          quickchartButtonEl.disabled = true;  // To prevent multiple clicks.\n",
              "          quickchartButtonEl.classList.add('colab-df-spinner');\n",
              "          try {\n",
              "            const charts = await google.colab.kernel.invokeFunction(\n",
              "                'suggestCharts', [key], {});\n",
              "          } catch (error) {\n",
              "            console.error('Error during call to suggestCharts:', error);\n",
              "          }\n",
              "          quickchartButtonEl.classList.remove('colab-df-spinner');\n",
              "          quickchartButtonEl.classList.add('colab-df-quickchart-complete');\n",
              "        }\n",
              "        (() => {\n",
              "          let quickchartButtonEl =\n",
              "            document.querySelector('#df-de0fdaa6-f64f-4748-a573-147e211f42f5 button');\n",
              "          quickchartButtonEl.style.display =\n",
              "            google.colab.kernel.accessAllowed ? 'block' : 'none';\n",
              "        })();\n",
              "      </script>\n",
              "    </div>\n",
              "\n",
              "    </div>\n",
              "  </div>\n"
            ],
            "application/vnd.google.colaboratory.intrinsic+json": {
              "type": "dataframe",
              "summary": "{\n  \"name\": \"df\",\n  \"rows\": 8,\n  \"fields\": [\n    {\n      \"column\": \"A\",\n      \"properties\": {\n        \"dtype\": \"number\",\n        \"std\": 34.64069151404485,\n        \"min\": 2.7545090957058997,\n        \"max\": 107.89739321335301,\n        \"num_unique_values\": 8,\n        \"samples\": [\n          99.95486473570696,\n          100.04833725986806,\n          100.0\n        ],\n        \"semantic_type\": \"\",\n        \"description\": \"\"\n      }\n    },\n    {\n      \"column\": \"B\",\n      \"properties\": {\n        \"dtype\": \"number\",\n        \"std\": 34.654026125840296,\n        \"min\": 2.8314212463592328,\n        \"max\": 106.63624875924125,\n        \"num_unique_values\": 8,\n        \"samples\": [\n          100.6116565766144,\n          100.64738166784164,\n          100.0\n        ],\n        \"semantic_type\": \"\",\n        \"description\": \"\"\n      }\n    },\n    {\n      \"column\": \"c\",\n      \"properties\": {\n        \"dtype\": \"number\",\n        \"std\": 34.450010847408876,\n        \"min\": 2.8082485765807976,\n        \"max\": 105.82131232957072,\n        \"num_unique_values\": 8,\n        \"samples\": [\n          100.02058202412334,\n          100.10572037878975,\n          100.0\n        ],\n        \"semantic_type\": \"\",\n        \"description\": \"\"\n      }\n    }\n  ]\n}"
            }
          },
          "metadata": {},
          "execution_count": 67
        }
      ]
    },
    {
      "cell_type": "markdown",
      "source": [
        "16. Plot a boxplot to understand the spread and identify outliers."
      ],
      "metadata": {
        "id": "17WAgRgSkERW"
      }
    },
    {
      "cell_type": "code",
      "source": [
        "import matplotlib.pyplot as plt\n",
        "data = [1, 2, 3, 4, 5, 6, 7, 8, 9, 10]\n",
        "plt.boxplot(data)\n",
        "plt.title('Boxplot of Data')\n",
        "plt.xlabel('Data')\n",
        "plt.ylabel('Value')\n",
        "plt.show()"
      ],
      "metadata": {
        "colab": {
          "base_uri": "https://localhost:8080/",
          "height": 472
        },
        "id": "YiXwPyRmy6c9",
        "outputId": "e65bfe14-af30-440f-c022-816ec6cf8d20"
      },
      "execution_count": 82,
      "outputs": [
        {
          "output_type": "display_data",
          "data": {
            "text/plain": [
              "<Figure size 640x480 with 1 Axes>"
            ],
            "image/png": "[encoded data removed]"
          },
          "metadata": {}
        }
      ]
    },
    {
      "cell_type": "markdown",
      "source": [
        "17. Calculate the interquartile range (IQR) of a data set."
      ],
      "metadata": {
        "id": "IxzjNp6LkFal"
      }
    },
    {
      "cell_type": "code",
      "source": [
        "import numpy as np\n",
        "data = [1, 2, 3, 4, 5, 6, 7, 8, 9, 10]\n",
        "q1 = np.percentile(data, 25)\n",
        "q3 = np.percentile(data, 75)\n",
        "iqr = q3 - q1\n",
        "print(\"Interquartile Range (IQR):\", iqr)"
      ],
      "metadata": {
        "colab": {
          "base_uri": "https://localhost:8080/"
        },
        "id": "WyJbrLMNzN-S",
        "outputId": "8974ce1b-3144-462d-f299-e2deeaa9a1eb"
      },
      "execution_count": 83,
      "outputs": [
        {
          "output_type": "stream",
          "name": "stdout",
          "text": [
            "Interquartile Range (IQR): 4.5\n"
          ]
        }
      ]
    },
    {
      "cell_type": "markdown",
      "source": [
        "18. Implement Z-score normalization and explain its significance."
      ],
      "metadata": {
        "id": "SOEItsdlkGgk"
      }
    },
    {
      "cell_type": "code",
      "source": [
        "import numpy as np\n",
        "data = np.random.randn(100)\n",
        "mean = np.mean(data)\n",
        "std_dev = np.std(data)\n",
        "z_scores = (data - mean) / std_dev\n",
        "print(\"Original Data:\")\n",
        "print(data[:10])\n",
        "print(\"\\n Z-score Normalized Data:\")\n",
        "print(z_scores[:10])"
      ],
      "metadata": {
        "colab": {
          "base_uri": "https://localhost:8080/"
        },
        "id": "65hil5_KzXi-",
        "outputId": "4d36af2a-d474-4f17-b1bd-6cb2455febbe"
      },
      "execution_count": 87,
      "outputs": [
        {
          "output_type": "stream",
          "name": "stdout",
          "text": [
            "Original Data:\n",
            "[-0.36918184 -0.23937918  1.0996596   0.65526373  0.64013153 -1.61695604\n",
            " -0.02432612 -0.73803091  0.2799246  -0.09815039]\n",
            "\n",
            " Z-score Normalized Data:\n",
            "[-0.32557639 -0.18922943  1.21732003  0.75051893  0.73462381 -1.63625998\n",
            "  0.03666601 -0.71302183  0.35625623 -0.04088028]\n"
          ]
        }
      ]
    },
    {
      "cell_type": "markdown",
      "source": [
        "Z-score normalization significant because it scales the data to have a mean of 0 and standard deviation is 1 , making it easier compare to other dataset."
      ],
      "metadata": {
        "id": "gj3rMxt-0ZJI"
      }
    },
    {
      "cell_type": "markdown",
      "source": [
        "19. Compare two datasets using their standard deviations."
      ],
      "metadata": {
        "id": "xH-h4U9ikJLR"
      }
    },
    {
      "cell_type": "code",
      "source": [
        "import numpy as np\n",
        "data1 = np.random.normal(0, 1, 100)\n",
        "data2 = np.random.normal(0, 2, 100)\n",
        "std_dev1 = np.std(data1)\n",
        "std_dev2 = np.std(data2)\n",
        "if std_dev1 > std_dev2:\n",
        "  print(\"Dataset 1 has higher standard deviation.\")\n",
        "elif std_dev2 > std_dev1:\n",
        "  print(\"Dataset 2 has higher standard deviation.\")\n",
        "else:\n",
        "  print(\"Both datasets have the same standard deviation.\")"
      ],
      "metadata": {
        "colab": {
          "base_uri": "https://localhost:8080/"
        },
        "id": "XECPVuR30VBG",
        "outputId": "56e10217-dcf5-4a9d-fbcc-72a5b3809082"
      },
      "execution_count": 88,
      "outputs": [
        {
          "output_type": "stream",
          "name": "stdout",
          "text": [
            "Dataset 2 has higher standard deviation.\n"
          ]
        }
      ]
    },
    {
      "cell_type": "markdown",
      "source": [
        "20. Write a Python program to visualize covariance using a heatmap."
      ],
      "metadata": {
        "id": "AhHCo5-hkKTx"
      }
    },
    {
      "cell_type": "code",
      "source": [
        "import numpy as np\n",
        "import seaborn as sns\n",
        "import matplotlib.pyplot as plt\n",
        "data1 = np.random.normal(0, 1, 100)\n",
        "data2 = np.random.normal(0, 1, 100)\n",
        "covariance_matrix = np.cov(data1, data2)\n",
        "sns.heatmap(covariance_matrix, annot=True, cmap='coolwarm')\n",
        "plt.title('Covariance Heatmap')\n",
        "plt.show()"
      ],
      "metadata": {
        "colab": {
          "base_uri": "https://localhost:8080/",
          "height": 452
        },
        "id": "qJj-WsPup8nZ",
        "outputId": "13574346-ea24-46f3-e22d-15ad47369248"
      },
      "execution_count": null,
      "outputs": [
        {
          "output_type": "display_data",
          "data": {
            "text/plain": [
              "<Figure size 640x480 with 2 Axes>"
            ],
            "image/png": "[encoded data removed]"
          },
          "metadata": {}
        }
      ]
    },
    {
      "cell_type": "markdown",
      "source": [
        "21. Use a seaborn to create a correlation matrix for a dataset"
      ],
      "metadata": {
        "id": "rQUxZDlgkLPp"
      }
    },
    {
      "cell_type": "code",
      "source": [
        "import numpy as np\n",
        "import seaborn as sns\n",
        "import matplotlib.pyplot as plt\n",
        "data1 = np.random.normal(0, 1, 100)\n",
        "data2 = np.random.normal(0, 1, 100)\n",
        "df = pd.DataFrame({'A': data1, 'B': data2})\n",
        "correlation_matrix = df.corr()\n",
        "sns.heatmap(correlation_matrix, annot=True, cmap='coolwarm')\n",
        "plt.title('Correlation Matrix')\n",
        "plt.show()\n"
      ],
      "metadata": {
        "colab": {
          "base_uri": "https://localhost:8080/",
          "height": 452
        },
        "id": "-ZUMo1rIqWGV",
        "outputId": "a10d5e98-64d6-4cde-da48-503174281e2d"
      },
      "execution_count": null,
      "outputs": [
        {
          "output_type": "display_data",
          "data": {
            "text/plain": [
              "<Figure size 640x480 with 2 Axes>"
            ],
            "image/png": "[encoded data removed]"
          },
          "metadata": {}
        }
      ]
    },
    {
      "cell_type": "markdown",
      "source": [
        "22. Generate a dataset and implement both variance and standard deviation computations."
      ],
      "metadata": {
        "id": "Jnx_zXqpkL_q"
      }
    },
    {
      "cell_type": "code",
      "source": [
        "import numpy as np\n",
        "data = np.random.normal(0, 1, 100)\n",
        "variance = np.var(data)\n",
        "std_dev = np.std(data)\n",
        "print(\"Variance:\", variance)\n",
        "print(\"Standard Deviation:\", std_dev)"
      ],
      "metadata": {
        "colab": {
          "base_uri": "https://localhost:8080/"
        },
        "id": "CapDLCasqvzp",
        "outputId": "2b0077a3-be94-474c-ebd3-fd3c1e2cb77b"
      },
      "execution_count": null,
      "outputs": [
        {
          "output_type": "stream",
          "name": "stdout",
          "text": [
            "Variance: 0.9329506810241004\n",
            "Standard Deviation: 0.9658937213918001\n"
          ]
        }
      ]
    },
    {
      "cell_type": "markdown",
      "source": [
        "23. Visualize skewness and kutosis using Python libraries like matplotlib or seaborn."
      ],
      "metadata": {
        "id": "cwe7HtlakNA3"
      }
    },
    {
      "cell_type": "code",
      "source": [
        "import numpy as np\n",
        "import matplotlib.pyplot as plt\n",
        "from scipy import stats\n",
        "data = np.random.exponential(1, 1000)\n",
        "skewness = stats.skew(data)\n",
        "kurtosis_value = stats.kurtosis(data)\n",
        "print(\"Skewness:\", skewness)\n",
        "print(\"Kurtosis:\", kurtosis_value)\n",
        "plt.hist(data, bins=30, density=True)\n",
        "plt.xlabel('Value')\n",
        "plt.ylabel('Frequency')\n",
        "plt.title('Histogram of Data')\n",
        "plt.show()"
      ],
      "metadata": {
        "colab": {
          "base_uri": "https://localhost:8080/",
          "height": 472
        },
        "id": "eZKCiyjerx1C",
        "outputId": "63ab0ad6-9a6c-4870-8807-8687a6b25a24"
      },
      "execution_count": null,
      "outputs": [
        {
          "output_type": "display_data",
          "data": {
            "text/plain": [
              "<Figure size 640x480 with 1 Axes>"
            ],
            "image/png": "[encoded data removed]"
          },
          "metadata": {}
        }
      ]
    },
    {
      "cell_type": "markdown",
      "source": [
        "24. Implement the pearson and spearman correlation coefficient for a dataset."
      ],
      "metadata": {
        "id": "vab69tFqkOAY"
      }
    },
    {
      "cell_type": "code",
      "source": [
        "import numpy as np\n",
        "from scipy . stats import pearsonr, spearmanr\n",
        "data={ 'variable1': [1,2,3,4,5], 'variable2':[2,3,5,7,11]}\n",
        "df = pd.DataFrame(data)\n",
        "pearson_coef= df['variable1'].corr(df['variable2'])\n",
        "print(f\"Pearson Correlation coefficient :{pearson_coef}\")\n",
        "pearson_coef_scipy, _ = pearsonr(df['variable1'],df['variable2'])\n",
        "print(f\"Pearson Correlation Coefficient  (SciPy): {pearson_coef_scipy}\")\n",
        "spearman_coef = df['variable1'].corr(df['variable2'], method='spearman')\n",
        "print(f\"Spearman Correlation Coefficient: { spearman_coef}\")\n",
        "spearman_coef_scipy, _ = spearmanr(df['variable1'],df['variable2'])\n",
        "print(f\"Spearman Correlation Coefficient (SciPy): {spearman_coef_scipy}\")"
      ],
      "metadata": {
        "id": "kjXyTMNfsme5",
        "colab": {
          "base_uri": "https://localhost:8080/"
        },
        "outputId": "019adc33-90b7-42ec-b905-a921a334ef19"
      },
      "execution_count": 76,
      "outputs": [
        {
          "output_type": "stream",
          "name": "stdout",
          "text": [
            "Pearson Correlation coefficient :0.9722718241315028\n",
            "Pearson Correlation Coefficient  (SciPy): 0.9722718241315029\n",
            "Spearman Correlation Coefficient: 0.9999999999999999\n",
            "Spearman Correlation Coefficient (SciPy): 0.9999999999999999\n"
          ]
        }
      ]
    }
  ]
}