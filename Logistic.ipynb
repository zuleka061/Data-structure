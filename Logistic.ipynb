{
  "nbformat": 4,
  "nbformat_minor": 0,
  "metadata": {
    "colab": {
      "provenance": [],
      "authorship_tag": "ABX9TyOMlj5jWWNEl08y9BZNeuIK",
      "include_colab_link": true
    },
    "kernelspec": {
      "name": "python3",
      "display_name": "Python 3"
    },
    "language_info": {
      "name": "python"
    }
  },
  "cells": [
    {
      "cell_type": "markdown",
      "metadata": {
        "id": "view-in-github",
        "colab_type": "text"
      },
      "source": [
        "<a href=\"https://colab.research.google.com/github/zuleka061/Data-structure/blob/main/Logistic.ipynb\" target=\"_parent\"><img src=\"https://colab.research.google.com/assets/colab-badge.svg\" alt=\"Open In Colab\"/></a>"
      ]
    },
    {
      "cell_type": "markdown",
      "source": [
        "LOGISTIC REGRESSION\n"
      ],
      "metadata": {
        "id": "VdWO_7n-xBOT"
      }
    },
    {
      "cell_type": "markdown",
      "source": [
        "1. What is Logistic Regression , and how does it differ from Linear Regression ?\n",
        "\n",
        "--> Logistic  Regression is a statistical method for binary classification that differs from Linear Regression in its use for categorical outcomes."
      ],
      "metadata": {
        "id": "DqVQMMnKxa_G"
      }
    },
    {
      "cell_type": "markdown",
      "source": [
        "2.  Explain the role of the Sigmoid function in LOgistic Regression ?\n",
        "\n",
        "--> The Sigmoid function maps real-valued nuber to probabilities between 0 and 1."
      ],
      "metadata": {
        "id": "fpNUEOQMxqk8"
      }
    },
    {
      "cell_type": "markdown",
      "source": [
        "3. What is Regularization in Logistic Regression and why is it related ?\n",
        "\n",
        "--> Regularization prevents overfitting by adding a penalty term to the loss function."
      ],
      "metadata": {
        "id": "oYjN7GuexrxT"
      }
    },
    {
      "cell_type": "markdown",
      "source": [
        "4. What are some common evaluation metrics for classification models , and why ae they important ?\n",
        "\n",
        "--> Common evaluation metrics include accuracy , precision , recall, F1-score , and AUC-ROC, which are important for understanding a model's performance ."
      ],
      "metadata": {
        "id": "f2XfQVvAxs_H"
      }
    },
    {
      "cell_type": "markdown",
      "source": [
        "5. Write a Python program that loads a CSV file into a Pandas DataFrame , splits into train / test sets, train a LOgistic Regression model , and prints its accuracy ?"
      ],
      "metadata": {
        "id": "1mhz47lK0Imz"
      }
    },
    {
      "cell_type": "code",
      "source": [
        "import pandas as pd\n",
        "import numpy as np\n",
        "import matplotlib.pyplot as plt\n",
        "import seaborn as sns\n",
        "\n",
        "import warnings\n",
        "warnings.filterwarnings('ignore')\n",
        "from sklearn.datasets import load_iris\n",
        "from sklearn.model_selection import train_test_split\n",
        "from sklearn.linear_model import LogisticRegression\n",
        "from sklearn.metrics import accuracy_score , confusion_matrix , classification_report\n",
        "x , y = load_iris(return_X_y=True)\n",
        "x_train, x_test, y_train, y_test = train_test_split(x, y, test_size=0.2, random_state=42)\n",
        "model = LogisticRegression()\n",
        "model.fit(x_train, y_train)\n",
        "y_pred = model.predict(x_test)\n",
        "accuracy = accuracy_score(y_test, y_pred)\n",
        "print(\"Accuracy:\", accuracy)\n",
        "\n"
      ],
      "metadata": {
        "id": "xzt6RtCn16Ux",
        "colab": {
          "base_uri": "https://localhost:8080/"
        },
        "outputId": "54944205-f6b5-46fe-a22e-71162f53a8dc"
      },
      "execution_count": 25,
      "outputs": [
        {
          "output_type": "stream",
          "name": "stdout",
          "text": [
            "Accuracy: 1.0\n"
          ]
        }
      ]
    },
    {
      "cell_type": "markdown",
      "source": [
        "6. Write a Python program to train a Logistic Regression model using L2 regularization (Ridge) and print the model coefficients and accuracy ?\n"
      ],
      "metadata": {
        "id": "-nL9doch0vv1"
      }
    },
    {
      "cell_type": "code",
      "source": [
        "import pandas as pd\n",
        "import numpy as np\n",
        "from sklearn.model_selection import train_test_split\n",
        "from sklearn.linear_model import LogisticRegression\n",
        "from sklearn.metrics import accuracy_score\n",
        "from sklearn.datasets import make_classification\n",
        "import warnings\n",
        "warnings.filterwarnings('ignore')\n",
        "x, y = make_classification(n_samples=1000, n_features=10, random_state=42)\n",
        "x_train, x_test, y_train, y_test = train_test_split(x, y, test_size=0.2, random_state=42)\n",
        "log_reg = LogisticRegression(penalty='l2', C=1.0,  random_state=42)\n",
        "log_reg.fit(x_train, y_train)\n",
        "y_pred = log_reg.predict(x_test)\n",
        "accuracy = accuracy_score(y_test, y_pred)\n",
        "print(\"Accuracy:\", accuracy)\n",
        "print(f\"\\n Coefficients:\", log_reg.coef_)"
      ],
      "metadata": {
        "id": "sIpRBr7S4AJM",
        "colab": {
          "base_uri": "https://localhost:8080/"
        },
        "outputId": "70ee5e70-f703-44b3-9198-8a452ae0d9e3"
      },
      "execution_count": 26,
      "outputs": [
        {
          "output_type": "stream",
          "name": "stdout",
          "text": [
            "Accuracy: 0.83\n",
            "\n",
            " Coefficients: [[-0.45219068  0.16120144 -0.7451044   0.05551587 -0.04318053 -0.22876026\n",
            "   1.62041062 -0.00326395 -0.6290245   0.10253711]]\n"
          ]
        }
      ]
    },
    {
      "cell_type": "markdown",
      "source": [
        "7. Write a Python program to train a Logistic Regression model for multiclass classification using multi_class='ovr' and print the classification report ?\n"
      ],
      "metadata": {
        "id": "RbQ5hfX81J_h"
      }
    },
    {
      "cell_type": "code",
      "source": [
        "import pandas as pd\n",
        "from sklearn.model_selection import train_test_split\n",
        "from sklearn.linear_model import LogisticRegression\n",
        "from sklearn.metrics import classification_report\n",
        "from sklearn.datasets import load_iris\n",
        "import warnings\n",
        "warnings.filterwarnings('ignore')\n",
        "iris = load_iris()\n",
        "df = pd.DataFrame(data=iris.data, columns=iris.feature_names)\n",
        "df['target'] = iris.target\n",
        "x_train, x_test, y_train, y_test = train_test_split(df.drop('target', axis=1), df['target'], test_size=0.2, random_state=42)\n",
        "model = LogisticRegression(max_iter =1000 , multi_class='ovr')\n",
        "model.fit(x_train, y_train)\n",
        "y_pred = model.predict(x_test)\n",
        "print(classification_report(y_test, y_pred))\n"
      ],
      "metadata": {
        "id": "zTY5CSXC3ktR",
        "colab": {
          "base_uri": "https://localhost:8080/"
        },
        "outputId": "15c111aa-1c01-4bd6-b969-b220cc6e5546"
      },
      "execution_count": 27,
      "outputs": [
        {
          "output_type": "stream",
          "name": "stdout",
          "text": [
            "              precision    recall  f1-score   support\n",
            "\n",
            "           0       1.00      1.00      1.00        10\n",
            "           1       1.00      0.89      0.94         9\n",
            "           2       0.92      1.00      0.96        11\n",
            "\n",
            "    accuracy                           0.97        30\n",
            "   macro avg       0.97      0.96      0.97        30\n",
            "weighted avg       0.97      0.97      0.97        30\n",
            "\n"
          ]
        }
      ]
    },
    {
      "cell_type": "markdown",
      "source": [
        "8. Write a Python program to apply GridSearchCV to tune C and Penalty hyperparameter for Logistic Regression and print the best parameters and validation accuracy ?"
      ],
      "metadata": {
        "id": "iI1qV8OQ7Ul1"
      }
    },
    {
      "cell_type": "code",
      "source": [
        "import pandas as pd\n",
        "from sklearn.datasets import load_iris\n",
        "from sklearn.model_selection import train_test_split, GridSearchCV\n",
        "from sklearn.linear_model import LogisticRegression\n",
        "import warnings\n",
        "warnings.filterwarnings('ignore')\n",
        "def main():\n",
        " iris = load_iris()\n",
        "x = iris.data\n",
        "y = iris.target\n",
        "x_train, x_test, y_train, y_test = train_test_split(x, y, test_size=0.2, random_state=42)\n",
        "param_grid = {'C': [0.1, 1, 10], 'penalty': ['l1', 'l2']}\n",
        "grid_search = GridSearchCV(LogisticRegression(max_iter=1000), param_grid, cv=5)\n",
        "grid_search.fit(x_train, y_train)\n",
        "print(\"Best parameters:\", grid_search.best_params_)\n",
        "print(\"Validation accuracy:\", grid_search.best_score_)"
      ],
      "metadata": {
        "colab": {
          "base_uri": "https://localhost:8080/"
        },
        "id": "E4tH-JZO9itL",
        "outputId": "e7b0f46b-78e1-41d9-a738-87f850bb57dd"
      },
      "execution_count": 28,
      "outputs": [
        {
          "output_type": "stream",
          "name": "stdout",
          "text": [
            "Best parameters: {'C': 1, 'penalty': 'l2'}\n",
            "Validation accuracy: 0.9666666666666666\n"
          ]
        }
      ]
    },
    {
      "cell_type": "markdown",
      "source": [
        "9.  Write a Python program to standardize the feature before training Logistic Regression and compare the model's accuracy with and without scaling ?"
      ],
      "metadata": {
        "id": "m4l4IdR-75mt"
      }
    },
    {
      "cell_type": "code",
      "source": [
        "from sklearn.datasets import load_iris\n",
        "from sklearn.model_selection import train_test_split\n",
        "from sklearn.linear_model import LogisticRegression\n",
        "from sklearn.metrics import accuracy_score\n",
        "from sklearn.pipeline import make_pipeline\n",
        "from sklearn.preprocessing import StandardScaler\n",
        "iris = load_iris()\n",
        "x = iris.data\n",
        "y = iris.target\n",
        "x_train, x_test, y_train, y_test = train_test_split(x, y, test_size=0.2, random_state=42)\n",
        "model_scaled = make_pipeline(StandardScaler(), LogisticRegression())\n",
        "model_scaled.fit(x_train, y_train)\n",
        "y_pred_scaled = model_scaled.predict(x_test)\n",
        "accuracy_scaled = accuracy_score(y_test, y_pred_scaled)\n",
        "model_unscaled = LogisticRegression()\n",
        "model_unscaled.fit(x_train, y_train)\n",
        "y_pred_unscaled = model_unscaled.predict(x_test)\n",
        "accuracy_unscaled = accuracy_score(y_test, y_pred_unscaled)\n",
        "print(\"Accuracy with scaling:\", accuracy_scaled)\n",
        "print(\"Accuracy without scaling:\", accuracy_unscaled)"
      ],
      "metadata": {
        "colab": {
          "base_uri": "https://localhost:8080/"
        },
        "id": "6HpDin9bM1Q9",
        "outputId": "5b43f520-5625-4f4c-8898-4c42520581fb"
      },
      "execution_count": 30,
      "outputs": [
        {
          "output_type": "stream",
          "name": "stdout",
          "text": [
            "Accuracy with scaling: 1.0\n",
            "Accuracy without scaling: 1.0\n"
          ]
        }
      ]
    },
    {
      "cell_type": "markdown",
      "source": [
        "10. Imagine you are working at an e-commerce company that wants to predict with customers will respond to a marketing campaign . Given an imbalanced dataset( only 5% respond ). Describe the approach you'd take to build a Logitic Regression model.including data handling , feature scaling , balancing classes , hyperparameter tuning and evaluating the model for this real-world business use case :\n",
        "\n",
        "--> DATA HANDLING\n",
        "\n",
        " 1. Data collection and inspection\n",
        "    2. Data Preprocessing\n",
        "    3. Feature Engineering.\n",
        "\n",
        "    ** FEATURE SCALING**\n",
        "       Scale features using standardization or normalization to improve model convergence.\n",
        "\n",
        "       **BALANCING CLASSES**\n",
        "        use techniques like oversmapling the minority class , undersmapling the majority class , SMOTE  , or class weighing to handle the imbalance.\n",
        "\n",
        "        ** HYPERPARAMETER TUNING**\n",
        "          perform hyperparameter tuning using Grind search or random Search to optimize parameter like regularization strength and penalty type .\n",
        "\n",
        "          ** EVALUATING THE MODEL**\n",
        "            1. Evaluation Metrics : use precision , recall, F1-score , and AUC -ROC score to evaluate the nodel on imbalanced data.\n",
        "            2. Cross-validation : perform cross-validation to ensure the model's robutness.\n",
        "\n",
        "            **DEPLOYMENT AND MONITORING **\n",
        "\n",
        "            1. Model Deployment : Deploy the model to predict customer responses.\n",
        "\n",
        "            2. Monitoring and Updating : continously monitor the model's performance and update it with new data ."
      ],
      "metadata": {
        "id": "cpSyw-Eh8R6C"
      }
    }
  ]
}