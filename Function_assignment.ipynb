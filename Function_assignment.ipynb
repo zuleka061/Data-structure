{
  "nbformat": 4,
  "nbformat_minor": 0,
  "metadata": {
    "colab": {
      "provenance": [],
      "authorship_tag": "ABX9TyMb4ky4NRXPVTm1NHZSnyVH",
      "include_colab_link": true
    },
    "kernelspec": {
      "name": "python3",
      "display_name": "Python 3"
    },
    "language_info": {
      "name": "python"
    }
  },
  "cells": [
    {
      "cell_type": "markdown",
      "metadata": {
        "id": "view-in-github",
        "colab_type": "text"
      },
      "source": [
        "<a href=\"https://colab.research.google.com/github/zuleka061/Data-structure/blob/main/Function_assignment.ipynb\" target=\"_parent\"><img src=\"https://colab.research.google.com/assets/colab-badge.svg\" alt=\"Open In Colab\"/></a>"
      ]
    },
    {
      "cell_type": "markdown",
      "source": [
        "FUCTIONS Assignment"
      ],
      "metadata": {
        "id": "FJ48HNwKlsEK"
      }
    },
    {
      "cell_type": "markdown",
      "source": [
        "1. What is difference between a function and method in python ?\n",
        "\n",
        "--> In Python , a function is standard alone block of code which performs a specific tasks and can be called again and again as per requirement of the code .\n",
        "Ex: len() is a function\n",
        "\n",
        "  A method is a function associated with an object .\n",
        "  \n",
        "   Ex: my_list.append() is a method."
      ],
      "metadata": {
        "id": "gxyfcEPCl_cd"
      }
    },
    {
      "cell_type": "markdown",
      "source": [
        "2. Explain concept  of function argument and parameters ?\n",
        "--> Parameters are variable in a function definition.\n",
        "\n",
        "      Arguments are values passed  to a function when calling it .\n",
        "\n",
        "  Ex: def greet(name):     # 'name' is a parameter\n",
        "  \n",
        "      print(\"name\")\n",
        "    \n",
        "    greet(\"Alice\")      # 'Alice ' is an argument  \n",
        "  "
      ],
      "metadata": {
        "id": "_sr7WCDmoLzq"
      }
    },
    {
      "cell_type": "markdown",
      "source": [
        "3. what are different way to define and call a function ?\n",
        "\n",
        "--> There are several ways to define and call a function in Python\n",
        "1) using the def keywords\n",
        "syntax: def greet(name)\n",
        "\n",
        "Ex: def add(a,b)\n",
        "\n",
        "2) using a lambda fuction\n",
        "Ex: greet= lambda name\n",
        "\n",
        "3) Calling a function by its name\n",
        "Ex: greet(\"Zuleka\")\n",
        "\n",
        "4) Calling a function by using a operators\n",
        "ex: greet (\"operator\")()\n",
        "\n"
      ],
      "metadata": {
        "id": "15vG2HmppIJa"
      }
    },
    {
      "cell_type": "markdown",
      "source": [
        "4. What is the purpose of the 'return' statement in a python function ?\n",
        "--> The return statement exists a function and opptionally returns a value.\n",
        "If no value is specified the function none by default.\n",
        "\n",
        "   Ex: def square(x):\n",
        "   return  x*x  \n",
        "   returns the value of x .\n"
      ],
      "metadata": {
        "id": "URDnKJu-sQzl"
      }
    },
    {
      "cell_type": "markdown",
      "source": [
        "5. What are iterators in Python and how do they differ from from iterables ?\n",
        "--> Iterators allows traversal through elements one at a time .\n",
        "\n",
        " Ex: my_list=[1,2,3,4] is an iterable.\n",
        "\n",
        "Iterables can be looped over but aren't necessarily iterators themselves .\n",
        "\n",
        " Ex: iter(my_list) creates an iterator .\n"
      ],
      "metadata": {
        "id": "v6z97ghumLWx"
      }
    },
    {
      "cell_type": "markdown",
      "source": [
        "6. Explain the concept of generators in Pyhthon and how are they defined ?\n",
        "--> Generators are functions yielding values instead of returning them all at once. Defined using yield.\n",
        "\n",
        "  Ex: def count (n):\n",
        "   for i in range(n):\n",
        "   yield i ."
      ],
      "metadata": {
        "id": "yOP1p_meuujV"
      }
    },
    {
      "cell_type": "markdown",
      "source": [
        "7.  What are the advantages of using generators over regular functions ?\n",
        "--> Generators save memory by yielding values one at a time .\n",
        "\n",
        "1, Memory efficiency\n",
        "2, Flexibility\n",
        "3, lazy evaluation\n",
        "\n",
        "Ex: for num in generate_num (1_000_000_000):\n",
        "\n",
        "  if num> 10:\n",
        "\n",
        "    break\n",
        "\n",
        "  print(num)\n",
        "\n"
      ],
      "metadata": {
        "id": "4sV-ZXCYvfQn"
      }
    },
    {
      "cell_type": "markdown",
      "source": [
        "8. What is a lambda function in Python and when is it typically used ?\n",
        "---> Lambda functions are small , anonymous function defined with lambda.Typically used for short operations.\n",
        "\n",
        "Ex : add = lambda  x, y : x + y."
      ],
      "metadata": {
        "id": "du7THxUIvwTL"
      }
    },
    {
      "cell_type": "markdown",
      "source": [
        "9. Explain the purpose and usage of the 'map()' function in Python ?\n",
        "--> map () applies a function to all items in an input (like a list ).\n",
        "\n",
        "Ex: list(map (lambda x: x*2 , [1,2,3] ))\n"
      ],
      "metadata": {
        "id": "5IcGG9Emv9F_"
      }
    },
    {
      "cell_type": "markdown",
      "source": [
        "10. What is the difference between 'map()', 'reduce()', and 'filter()' functions in Python ?\n",
        "--> map() : applies a function to each item.\n",
        "\n",
        " reduce() : applies a function to all items in an iterable and returns a single value ,\n",
        "\n",
        " filter() : returns a new iterable with items that pass a certain conditions .\n",
        "\n",
        "Ex: from functools import reduce\n",
        "\n",
        "  num=[1,2,3,4]     # map ()\n",
        "                  \n",
        "  sqr_num=[1,2,3,4]\n",
        "\n",
        "  print(sqr_num)\n",
        "\n",
        "  sum_of_num= reduce (lambda x,y:x+y,num)   # reduce()\n",
        "    \n",
        "  print(sum_of_num)\n",
        "\n",
        "  even_num=list(filter (lambda x:x%2 ==0, num )   #filter()\n",
        "   \n",
        "  print(even_num)\n",
        "\n",
        "\n",
        "\n"
      ],
      "metadata": {
        "id": "E4tQ7vubwLPz"
      }
    },
    {
      "cell_type": "markdown",
      "source": [
        "11. Using a pen and paper write the internal mechanism for sum operation using reduce function on this given list [47, 11 , 42, 13 ]:\n"
      ],
      "metadata": {
        "id": "ENlt5FKHwdaN"
      }
    },
    {
      "cell_type": "code",
      "source": [
        "from functools import reduce\n",
        "num=[47,11,42,13]\n",
        "sum_of_num= reduce (lambda x,y:x+y,num)\n",
        "print(sum_of_num)"
      ],
      "metadata": {
        "colab": {
          "base_uri": "https://localhost:8080/"
        },
        "id": "ytWdOk2516DR",
        "outputId": "75cf8239-dd28-4bee-ea1b-927566111bd4"
      },
      "execution_count": null,
      "outputs": [
        {
          "output_type": "stream",
          "name": "stdout",
          "text": [
            "113\n"
          ]
        }
      ]
    },
    {
      "cell_type": "markdown",
      "source": [
        "Praticals Program :"
      ],
      "metadata": {
        "id": "x2sSESUfvgqd"
      }
    },
    {
      "cell_type": "markdown",
      "source": [
        "1. Write a Python function that takes a list numbers as input and returns the sum of all even numbers in the list ."
      ],
      "metadata": {
        "id": "7AHkUpNr2SXM"
      }
    },
    {
      "cell_type": "code",
      "source": [
        "def sum_even_numbers(numbers):\n",
        "    even_numbers = [num for num in numbers if num % 2 == 0]\n",
        "    return sum(even_numbers)\n",
        "numbers = [1,2,3,4]\n",
        "print(sum_even_numbers(numbers))"
      ],
      "metadata": {
        "colab": {
          "base_uri": "https://localhost:8080/"
        },
        "id": "QxCGex8l24EU",
        "outputId": "762f8967-1eb0-4065-f06d-7273cd4d127f"
      },
      "execution_count": null,
      "outputs": [
        {
          "output_type": "stream",
          "name": "stdout",
          "text": [
            "6\n"
          ]
        }
      ]
    },
    {
      "cell_type": "markdown",
      "source": [
        "2. Create a Python function that accepts a string and returns the reverse of that string ."
      ],
      "metadata": {
        "id": "SGLbIcRz4a4E"
      }
    },
    {
      "cell_type": "code",
      "source": [
        "def rev_srring(s):\n",
        "  return s[::-1]\n",
        "s=\"Zuleka\"\n",
        "print(rev_srring(s))"
      ],
      "metadata": {
        "colab": {
          "base_uri": "https://localhost:8080/"
        },
        "id": "XRhiPgXm4rAC",
        "outputId": "1731d090-951a-4f94-d1e8-9eb31269e98d"
      },
      "execution_count": null,
      "outputs": [
        {
          "output_type": "stream",
          "name": "stdout",
          "text": [
            "akeluZ\n"
          ]
        }
      ]
    },
    {
      "cell_type": "markdown",
      "source": [
        "3. Implement a Python function that takes a list of integers and returns a new list containing the squares of each numbers ."
      ],
      "metadata": {
        "id": "_NwOfHbP46aS"
      }
    },
    {
      "cell_type": "code",
      "source": [
        "def square_numbers(numbers):\n",
        "    squared_numbers = [num ** 2 for num in numbers]\n",
        "    return squared_numbers\n",
        "numbers = [1,2,3,4]\n",
        "print(square_numbers(numbers))"
      ],
      "metadata": {
        "colab": {
          "base_uri": "https://localhost:8080/"
        },
        "id": "EVyCG2M25R7z",
        "outputId": "e4e11c97-4ed1-4451-fa72-efef07b4db00"
      },
      "execution_count": null,
      "outputs": [
        {
          "output_type": "stream",
          "name": "stdout",
          "text": [
            "[1, 4, 9, 16]\n"
          ]
        }
      ]
    },
    {
      "cell_type": "markdown",
      "source": [
        "4. Write a Python function that checks if a given number is prime or not from 1 to 200."
      ],
      "metadata": {
        "id": "QM6pYZ-r5aO7"
      }
    },
    {
      "cell_type": "code",
      "source": [
        "def is_prime(n):\n",
        "  if n<2 : return False\n",
        "  for i in range(2,int(n**0.5)+1):\n",
        "     if n % i ==0: return False\n",
        "  return True\n",
        "for num in range(1,201):\n",
        "    print(f\"{num} is prime : {is_prime(num)}\")"
      ],
      "metadata": {
        "id": "hfSmPrza5nS9",
        "colab": {
          "base_uri": "https://localhost:8080/"
        },
        "outputId": "dfec10c1-5cf3-474e-92f1-1e6d06768d61"
      },
      "execution_count": 69,
      "outputs": [
        {
          "output_type": "stream",
          "name": "stdout",
          "text": [
            "1 is prime : False\n",
            "2 is prime : True\n",
            "3 is prime : True\n",
            "4 is prime : False\n",
            "5 is prime : True\n",
            "6 is prime : False\n",
            "7 is prime : True\n",
            "8 is prime : False\n",
            "9 is prime : False\n",
            "10 is prime : False\n",
            "11 is prime : True\n",
            "12 is prime : False\n",
            "13 is prime : True\n",
            "14 is prime : False\n",
            "15 is prime : False\n",
            "16 is prime : False\n",
            "17 is prime : True\n",
            "18 is prime : False\n",
            "19 is prime : True\n",
            "20 is prime : False\n",
            "21 is prime : False\n",
            "22 is prime : False\n",
            "23 is prime : True\n",
            "24 is prime : False\n",
            "25 is prime : False\n",
            "26 is prime : False\n",
            "27 is prime : False\n",
            "28 is prime : False\n",
            "29 is prime : True\n",
            "30 is prime : False\n",
            "31 is prime : True\n",
            "32 is prime : False\n",
            "33 is prime : False\n",
            "34 is prime : False\n",
            "35 is prime : False\n",
            "36 is prime : False\n",
            "37 is prime : True\n",
            "38 is prime : False\n",
            "39 is prime : False\n",
            "40 is prime : False\n",
            "41 is prime : True\n",
            "42 is prime : False\n",
            "43 is prime : True\n",
            "44 is prime : False\n",
            "45 is prime : False\n",
            "46 is prime : False\n",
            "47 is prime : True\n",
            "48 is prime : False\n",
            "49 is prime : False\n",
            "50 is prime : False\n",
            "51 is prime : False\n",
            "52 is prime : False\n",
            "53 is prime : True\n",
            "54 is prime : False\n",
            "55 is prime : False\n",
            "56 is prime : False\n",
            "57 is prime : False\n",
            "58 is prime : False\n",
            "59 is prime : True\n",
            "60 is prime : False\n",
            "61 is prime : True\n",
            "62 is prime : False\n",
            "63 is prime : False\n",
            "64 is prime : False\n",
            "65 is prime : False\n",
            "66 is prime : False\n",
            "67 is prime : True\n",
            "68 is prime : False\n",
            "69 is prime : False\n",
            "70 is prime : False\n",
            "71 is prime : True\n",
            "72 is prime : False\n",
            "73 is prime : True\n",
            "74 is prime : False\n",
            "75 is prime : False\n",
            "76 is prime : False\n",
            "77 is prime : False\n",
            "78 is prime : False\n",
            "79 is prime : True\n",
            "80 is prime : False\n",
            "81 is prime : False\n",
            "82 is prime : False\n",
            "83 is prime : True\n",
            "84 is prime : False\n",
            "85 is prime : False\n",
            "86 is prime : False\n",
            "87 is prime : False\n",
            "88 is prime : False\n",
            "89 is prime : True\n",
            "90 is prime : False\n",
            "91 is prime : False\n",
            "92 is prime : False\n",
            "93 is prime : False\n",
            "94 is prime : False\n",
            "95 is prime : False\n",
            "96 is prime : False\n",
            "97 is prime : True\n",
            "98 is prime : False\n",
            "99 is prime : False\n",
            "100 is prime : False\n",
            "101 is prime : True\n",
            "102 is prime : False\n",
            "103 is prime : True\n",
            "104 is prime : False\n",
            "105 is prime : False\n",
            "106 is prime : False\n",
            "107 is prime : True\n",
            "108 is prime : False\n",
            "109 is prime : True\n",
            "110 is prime : False\n",
            "111 is prime : False\n",
            "112 is prime : False\n",
            "113 is prime : True\n",
            "114 is prime : False\n",
            "115 is prime : False\n",
            "116 is prime : False\n",
            "117 is prime : False\n",
            "118 is prime : False\n",
            "119 is prime : False\n",
            "120 is prime : False\n",
            "121 is prime : False\n",
            "122 is prime : False\n",
            "123 is prime : False\n",
            "124 is prime : False\n",
            "125 is prime : False\n",
            "126 is prime : False\n",
            "127 is prime : True\n",
            "128 is prime : False\n",
            "129 is prime : False\n",
            "130 is prime : False\n",
            "131 is prime : True\n",
            "132 is prime : False\n",
            "133 is prime : False\n",
            "134 is prime : False\n",
            "135 is prime : False\n",
            "136 is prime : False\n",
            "137 is prime : True\n",
            "138 is prime : False\n",
            "139 is prime : True\n",
            "140 is prime : False\n",
            "141 is prime : False\n",
            "142 is prime : False\n",
            "143 is prime : False\n",
            "144 is prime : False\n",
            "145 is prime : False\n",
            "146 is prime : False\n",
            "147 is prime : False\n",
            "148 is prime : False\n",
            "149 is prime : True\n",
            "150 is prime : False\n",
            "151 is prime : True\n",
            "152 is prime : False\n",
            "153 is prime : False\n",
            "154 is prime : False\n",
            "155 is prime : False\n",
            "156 is prime : False\n",
            "157 is prime : True\n",
            "158 is prime : False\n",
            "159 is prime : False\n",
            "160 is prime : False\n",
            "161 is prime : False\n",
            "162 is prime : False\n",
            "163 is prime : True\n",
            "164 is prime : False\n",
            "165 is prime : False\n",
            "166 is prime : False\n",
            "167 is prime : True\n",
            "168 is prime : False\n",
            "169 is prime : False\n",
            "170 is prime : False\n",
            "171 is prime : False\n",
            "172 is prime : False\n",
            "173 is prime : True\n",
            "174 is prime : False\n",
            "175 is prime : False\n",
            "176 is prime : False\n",
            "177 is prime : False\n",
            "178 is prime : False\n",
            "179 is prime : True\n",
            "180 is prime : False\n",
            "181 is prime : True\n",
            "182 is prime : False\n",
            "183 is prime : False\n",
            "184 is prime : False\n",
            "185 is prime : False\n",
            "186 is prime : False\n",
            "187 is prime : False\n",
            "188 is prime : False\n",
            "189 is prime : False\n",
            "190 is prime : False\n",
            "191 is prime : True\n",
            "192 is prime : False\n",
            "193 is prime : True\n",
            "194 is prime : False\n",
            "195 is prime : False\n",
            "196 is prime : False\n",
            "197 is prime : True\n",
            "198 is prime : False\n",
            "199 is prime : True\n",
            "200 is prime : False\n"
          ]
        }
      ]
    },
    {
      "cell_type": "markdown",
      "source": [
        "5. Create an iterator class in Python that generates the Fibonacci sequence up to a specified number of terms ."
      ],
      "metadata": {
        "id": "pz89h4IC6Pvi"
      }
    },
    {
      "cell_type": "code",
      "source": [
        "class fibonacci_iterator:\n",
        "  def __init__(self,limit):\n",
        "    self.limit=limit\n",
        "    self.a=0\n",
        "    self.b=1\n",
        "    self.count=0\n",
        "\n",
        "  def __iter__(self):\n",
        "    return self\n",
        "\n",
        "  def __next__(self):\n",
        "    if self.count >= self.limit:\n",
        "      raise StopIteration\n",
        "    result=self.a\n",
        "    self.a, self.b = self.b, self.a + self.b\n",
        "    self.count += 1\n",
        "    return result\n",
        "fib_iter=fibonacci_iterator(5)\n",
        "for num in fib_iter:\n",
        "  print(num)\n",
        "\n",
        ""
      ],
      "metadata": {
        "id": "icrCjtxD6lzq",
        "colab": {
          "base_uri": "https://localhost:8080/"
        },
        "outputId": "77597443-4696-4c1b-aa27-745e7813f495"
      },
      "execution_count": 83,
      "outputs": [
        {
          "output_type": "stream",
          "name": "stdout",
          "text": [
            "0\n",
            "1\n",
            "1\n",
            "2\n",
            "3\n"
          ]
        }
      ]
    },
    {
      "cell_type": "markdown",
      "source": [
        "6. Write a generator function in Python that yields the power of 2 up to a given exponents.\n"
      ],
      "metadata": {
        "id": "pygHAlrk6wBY"
      }
    },
    {
      "cell_type": "code",
      "source": [
        "def power_of_2(n):\n",
        "  for i in range(n):\n",
        "    yield 2**i\n",
        "for num in power_of_2(5):\n",
        "  print(num)"
      ],
      "metadata": {
        "id": "P9WVzA597PYj",
        "colab": {
          "base_uri": "https://localhost:8080/"
        },
        "outputId": "3d5b5f57-840d-41ee-f669-f40b17cc3013"
      },
      "execution_count": 43,
      "outputs": [
        {
          "output_type": "stream",
          "name": "stdout",
          "text": [
            "1\n",
            "2\n",
            "4\n",
            "8\n",
            "16\n"
          ]
        }
      ]
    },
    {
      "cell_type": "markdown",
      "source": [
        "7.Implement a geerator fuction that reads a file line by line and yields each line as a string .\n"
      ],
      "metadata": {
        "id": "wQupsFK97YZK"
      }
    },
    {
      "cell_type": "code",
      "source": [
        "def read_file_lines(file_path):\n",
        "  try:\n",
        "    with open(file_path, 'r') as file:\n",
        "      for line in file:\n",
        "        yield line.strip()\n",
        "  except FileNotFoundError:\n",
        "    print(f\"File '{file_path}' not found.\")\n",
        "  except PermissionError:\n",
        "    print(f\"Permission denied to read file '{file_path}'.\")\n",
        "  except Exception as e:\n",
        "    print(f\"An error occurred: {str(e)}\")\n",
        "for line in read_file_lines('file.txt'):\n",
        "  print(line)\n"
      ],
      "metadata": {
        "id": "zhhqaCN67pq0",
        "colab": {
          "base_uri": "https://localhost:8080/"
        },
        "outputId": "263a0762-21ce-46b0-ee1f-abbc2488be84"
      },
      "execution_count": 86,
      "outputs": [
        {
          "output_type": "stream",
          "name": "stdout",
          "text": [
            "File 'file.txt' not found.\n"
          ]
        }
      ]
    },
    {
      "cell_type": "markdown",
      "source": [
        "8. Use a lambda function in Python to sort a list of tuples based on the second elements of each tuples.\n"
      ],
      "metadata": {
        "id": "soFt_Gdm8Aq8"
      }
    },
    {
      "cell_type": "code",
      "source": [
        "def main():\n",
        "  tuples_list=[(1,5) , (2,3) , (3,4)]\n",
        "  sorted_tuples = sorted(tuples_list , key=lambda x: x[1])\n",
        "  print(sorted_tuples)\n",
        "main()"
      ],
      "metadata": {
        "id": "P3WSzjJa8Ywu",
        "colab": {
          "base_uri": "https://localhost:8080/"
        },
        "outputId": "97bd0830-f0b4-4205-8b9a-c3b55f0c78d5"
      },
      "execution_count": 59,
      "outputs": [
        {
          "output_type": "stream",
          "name": "stdout",
          "text": [
            "[(2, 3), (3, 4), (1, 5)]\n"
          ]
        }
      ]
    },
    {
      "cell_type": "markdown",
      "source": [
        "9. Write a Python  program that uses 'map()' to convert a list of temperatures from celsius to fahrenheit."
      ],
      "metadata": {
        "id": "YvNYsby78azl"
      }
    },
    {
      "cell_type": "code",
      "source": [
        "celsius_temps=[0,12,24, 100]\n",
        "fahrenheit_temps=list(map(lambda c: (c*9/5)+32, celsius_temps))\n",
        "print(fahrenheit_temps)"
      ],
      "metadata": {
        "id": "zuz-dfEE8x7r",
        "colab": {
          "base_uri": "https://localhost:8080/"
        },
        "outputId": "710d1f3d-3914-49ac-f7e2-ae5ac46639cb"
      },
      "execution_count": 60,
      "outputs": [
        {
          "output_type": "stream",
          "name": "stdout",
          "text": [
            "[32.0, 53.6, 75.2, 212.0]\n"
          ]
        }
      ]
    },
    {
      "cell_type": "markdown",
      "source": [
        "10. Create a Python program that uses 'filter()' to remove all the vowels from a given string."
      ],
      "metadata": {
        "id": "Sdd8B5e4Gpuz"
      }
    },
    {
      "cell_type": "code",
      "source": [
        "string=\"hello world \"\n",
        "no_vowels=list(filter(lambda x: x.lower() not in 'aeiou', string))\n",
        "print(no_vowels)\n"
      ],
      "metadata": {
        "colab": {
          "base_uri": "https://localhost:8080/"
        },
        "id": "AkWCrF51G8mm",
        "outputId": "127a755c-a31e-4fc5-eba6-0763a111b4b6"
      },
      "execution_count": 88,
      "outputs": [
        {
          "output_type": "stream",
          "name": "stdout",
          "text": [
            "['h', 'l', 'l', ' ', 'w', 'r', 'l', 'd', ' ']\n"
          ]
        }
      ]
    },
    {
      "cell_type": "markdown",
      "source": [
        "11. Imagine an accounting routine used in a book shop.It works on a list with sublists , which look like this :\n",
        "\n",
        "  order number       Book title and author            quantity      price per items\n",
        "\n",
        "  34587             Learning Python ,Mark Lutz        4             40.95\n",
        "\n",
        "  98762            Programming Python ,Mark Lutz      5            56.80\n",
        "\n",
        "  77226           Head First Python ,Paul Barry       3            32.95\n",
        "\n",
        "  88112           Einfuhrung in Python3, Bernd klein   3         24.99\n",
        "\n",
        "Write a Python program , which returns a list  with 2 tuples .  each tuples consists of the order number and the product of the price per item and the quantity .The product should be increased by 10, - if the value of the order is smaller than 100,00 .\n",
        "\n",
        "write a python program uing lambda and map."
      ],
      "metadata": {
        "id": "Sf1T751IKajb"
      }
    },
    {
      "cell_type": "code",
      "source": [
        "orders=[\n",
        "    [34587,\"Learning Python, Mark Lutz\", 4, 40.95],\n",
        "    [98762, \"Programming Program ,Mark Lutz \", 5,56.80],\n",
        "    [77226,\"Head First Python, Paul barry\" ,3,32.95],\n",
        "    [88112,\"Einfuhrung in Python3, Bernd klein\",3,24.99]\n",
        "]\n",
        "result=list(map(\n",
        "    lambda order : (order[0] , order[2] * order[3] + (10 if order[2] * order[3] < 100 else 0 )) ,\n",
        "    orders\n",
        "    ))\n",
        "print(result)"
      ],
      "metadata": {
        "colab": {
          "base_uri": "https://localhost:8080/"
        },
        "id": "Iba1k1fdM_9w",
        "outputId": "7e67ae19-bb16-4ab6-987b-ce602971ed8a"
      },
      "execution_count": 102,
      "outputs": [
        {
          "output_type": "stream",
          "name": "stdout",
          "text": [
            "[(34587, 163.8), (98762, 284.0), (77226, 108.85000000000001), (88112, 84.97)]\n"
          ]
        }
      ]
    }
  ]
}