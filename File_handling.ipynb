{
  "cells": [
    {
      "cell_type": "markdown",
      "metadata": {
        "id": "view-in-github",
        "colab_type": "text"
      },
      "source": [
        "<a href=\"https://colab.research.google.com/github/zuleka061/Data-structure/blob/main/File_handling.ipynb\" target=\"_parent\"><img src=\"https://colab.research.google.com/assets/colab-badge.svg\" alt=\"Open In Colab\"/></a>"
      ]
    },
    {
      "cell_type": "markdown",
      "metadata": {
        "id": "3IHLEsxxxTC0"
      },
      "source": [
        "FILES , EXCEPTIONAL AND MEMORY MANAGEMENT ."
      ]
    },
    {
      "cell_type": "markdown",
      "metadata": {
        "id": "SGW--SwPxTHR"
      },
      "source": [
        "1. What is difference between interpreted and compiled language ?\n",
        "\n",
        "--> Interpreted language are executed line by line by an interpreter at run time .\n",
        "  Whereas compiled language are converted into machine code beforehand."
      ]
    },
    {
      "cell_type": "markdown",
      "metadata": {
        "id": "s3ip9WHYy53O"
      },
      "source": [
        "2. What is exception handling in Python ?\n",
        "\n",
        "--> Exception handling is a mechanism to handle run time errors , allowing the program to continue execution or provide meaningfull error message ."
      ]
    },
    {
      "cell_type": "markdown",
      "metadata": {
        "id": "X9TR-g9DzkjV"
      },
      "source": [
        "3. What is  the purpose of finally block in exception handling ?\n",
        "\n",
        "--> The finally blocked is executed regardless of whether an exception occured , ensuring cleanup or release of resources."
      ]
    },
    {
      "cell_type": "markdown",
      "metadata": {
        "id": "c1JLwvCI0LL3"
      },
      "source": [
        "4. What is logging in Python ?\n",
        "\n",
        "--> Logging is a built in module for recording events , error or information during execution ."
      ]
    },
    {
      "cell_type": "markdown",
      "metadata": {
        "id": "8wymgiOs0THi"
      },
      "source": [
        "5. What is the significance of the __ del __ method in Python ?\n",
        "\n",
        "--> The del method is a special method called when an object is about to be destroyed ."
      ]
    },
    {
      "cell_type": "markdown",
      "metadata": {
        "id": "BchCy9Zy0jib"
      },
      "source": [
        "6. What is the difference between import and from import ?\n",
        "\n",
        "--> Import brings the entire module into scope.\n",
        "      While from import brings specific module components into scope."
      ]
    },
    {
      "cell_type": "markdown",
      "metadata": {
        "id": "OSwys4qW0ueQ"
      },
      "source": [
        "7. How can you handle multiple exception ?\n",
        "\n",
        "--> Use multiple except blocks or a single except block with a tuple of exception types ."
      ]
    },
    {
      "cell_type": "markdown",
      "metadata": {
        "id": "8J6U7nL204lu"
      },
      "source": [
        "8. What is the purpose of with statement when handlingPython ?\n",
        "\n",
        "--> The with statment ensure files are properly closed after use ."
      ]
    },
    {
      "cell_type": "markdown",
      "metadata": {
        "id": "-hTlTNZj1Epf"
      },
      "source": [
        "9. What is the purpose of multithreading and multiprocessing ?\n",
        "\n",
        "--> In multithreading  where a single process is divided into multiple that can run concurrently. it shares memory spaces.\n",
        "      In multiprocessing runs independently , and data is not shared between processes unless explicity manged. Ultiprocessing uses sperate memory spaces.\n"
      ]
    },
    {
      "cell_type": "markdown",
      "metadata": {
        "id": "854iLy2h1Ojp"
      },
      "source": [
        "10. What are advantage of  using logging in a Python ?\n",
        "\n",
        "--> Logging provides debugging information , error tracking and auditing capabilities ."
      ]
    },
    {
      "cell_type": "markdown",
      "metadata": {
        "id": "6IHc-_3f7PO6"
      },
      "source": [
        "11. What is memory management in Python ?\n",
        "\n",
        "--> Memory management involoves allocating , deallocating  and managing memory for objects."
      ]
    },
    {
      "cell_type": "markdown",
      "metadata": {
        "id": "9mKACo1q7Uua"
      },
      "source": [
        "12. What are the basic steps involved in exception handling ?\n",
        "\n",
        "--> The basic steps involved in exception handling are:\n",
        "    i) Try: wrap the code that might raise an exception in a try block.\n",
        "    ii) Except : use an except block to catch a handle the exception .\n",
        "    iii) Handle : write code to handle the exception in the except block."
      ]
    },
    {
      "cell_type": "markdown",
      "metadata": {
        "id": "0_vxHZ-57iXx"
      },
      "source": [
        "13. Why is memory management important in Python ?\n",
        "\n",
        "--> Memory management prevents memory leaks and optimizes performances.\n"
      ]
    },
    {
      "cell_type": "markdown",
      "metadata": {
        "id": "uvxuM9nmD1b7"
      },
      "source": [
        "14. What is role of try and except in exception in Python ?\n",
        "\n",
        "--> Try: execute code while.\n",
        "    Except: handle exception."
      ]
    },
    {
      "cell_type": "markdown",
      "metadata": {
        "id": "BJccygktD9Vi"
      },
      "source": [
        "15. How does Python's garbage collection system work ?\n",
        "\n",
        "--> Python's garbage collector automatically frees memory occupied by unused objects."
      ]
    },
    {
      "cell_type": "markdown",
      "metadata": {
        "id": "TF1leDW1D9YZ"
      },
      "source": [
        "16. What is the purpose of else block in exception handling ?\n",
        "\n",
        "--> The else block executes when no execuptions occur ."
      ]
    },
    {
      "cell_type": "markdown",
      "metadata": {
        "id": "MTJkivZWEl1p"
      },
      "source": [
        "17. What are the common logging levels in Python ?\n",
        "\n",
        "--> DEBUG, INFO , WARNING , ERROR and CRITICAL.\n"
      ]
    },
    {
      "cell_type": "markdown",
      "metadata": {
        "id": "PMaQOh5VEwQ8"
      },
      "source": [
        "18. What is the difference between o.s.fork () and multiprocessing ?\n",
        "\n",
        "--> o.s fork () creates a new process by duplicating the present .\n",
        "    While multiprocessing provides a higher level interface."
      ]
    },
    {
      "cell_type": "markdown",
      "metadata": {
        "id": "1eYrwSSbE_R0"
      },
      "source": [
        "19. What is importance of closing a file in Python ?\n",
        "\n",
        "--> Closing file releases system resources and prevents data corruption ."
      ]
    },
    {
      "cell_type": "markdown",
      "metadata": {
        "id": "3vROeTfrFELQ"
      },
      "source": [
        "20. What is the difference between file.read and file.readline() in Python ?\n",
        "\n",
        "--> File.read() reads the entire file , while file.readline () reads a single line ."
      ]
    },
    {
      "cell_type": "markdown",
      "metadata": {
        "id": "7ayZLbNINU_v"
      },
      "source": [
        "21. What are logging module in Python used for ?\n",
        "\n",
        "--> The logging module records events , errors or information ."
      ]
    },
    {
      "cell_type": "markdown",
      "metadata": {
        "id": "Ooessd6nNjK7"
      },
      "source": [
        "22. What are the os module in Python used in file handling ?\n",
        "\n",
        "--> The os module provides function for interacting with os"
      ]
    },
    {
      "cell_type": "markdown",
      "metadata": {
        "id": "-LLvde8IQlV4"
      },
      "source": [
        "23. What are the challenge associated with memory management in python ?\n",
        "\n",
        "--> The challenge associated with memory management in Python are: memory leaks , fragmentation and perforamnce optimization ."
      ]
    },
    {
      "cell_type": "markdown",
      "metadata": {
        "id": "dbRZ6c1iTsHv"
      },
      "source": [
        "24. How do you raise an exception handling ?\n",
        "\n",
        "-->  By using the raise keyword ,we can manually trigger an exception in your code , allowing you to handle errors and exceptions in a controlled way ."
      ]
    },
    {
      "cell_type": "markdown",
      "metadata": {
        "id": "_c_cT0JoVALH"
      },
      "source": [
        "25. Why it is important use multithreading in certain application ?\n",
        "\n",
        "--> Multithreading improves responsiveness , cocurrency and performance ."
      ]
    },
    {
      "cell_type": "markdown",
      "metadata": {
        "id": "Dce-UEr0byd9"
      },
      "source": [
        "PRACTICAL PROGRAMS ⁉\n"
      ]
    },
    {
      "cell_type": "markdown",
      "metadata": {
        "id": "WkcNnd32cHQu"
      },
      "source": [
        "1. How can you open a file for writing in Python and write a string for it ?\n"
      ]
    },
    {
      "cell_type": "code",
      "execution_count": 132,
      "metadata": {
        "id": "-g0SpvyEhnpk"
      },
      "outputs": [],
      "source": [
        "with open (\"files.txt\", \"w\" ) as f:\n",
        "  f.write(\"Hello world !\")\n"
      ]
    },
    {
      "cell_type": "markdown",
      "source": [
        "2. Write a Python program to read the contents of a file and print each line ."
      ],
      "metadata": {
        "id": "JmewUhk6yVhA"
      }
    },
    {
      "cell_type": "code",
      "source": [
        "with open (\"files.txt\", \"r\") as f:\n",
        "  for line in f:\n",
        "    print(line)"
      ],
      "metadata": {
        "colab": {
          "base_uri": "https://localhost:8080/"
        },
        "id": "6rPSFgtoytm4",
        "outputId": "b5cd7dbb-125c-4bd7-b3b3-e4d77186e8bf"
      },
      "execution_count": 133,
      "outputs": [
        {
          "output_type": "stream",
          "name": "stdout",
          "text": [
            "Hello world !\n"
          ]
        }
      ]
    },
    {
      "cell_type": "markdown",
      "source": [
        "3. How would you handle a case where the file doesn't exist while trying to open it for reading ."
      ],
      "metadata": {
        "id": "wp4qDgcpy7tB"
      }
    },
    {
      "cell_type": "code",
      "source": [
        "try:\n",
        "  result=5/0\n",
        "except ZeroDivisionError:\n",
        "  print(\"Division by zero is not allowed\")"
      ],
      "metadata": {
        "colab": {
          "base_uri": "https://localhost:8080/"
        },
        "id": "qzHebQcMzO8l",
        "outputId": "c2561a64-6f4a-414b-b4c5-456a0e87aba6"
      },
      "execution_count": 134,
      "outputs": [
        {
          "output_type": "stream",
          "name": "stdout",
          "text": [
            "Division by zero is not allowed\n"
          ]
        }
      ]
    },
    {
      "cell_type": "markdown",
      "source": [
        "4. Write a Python script that reads from one file and writes its content to another file."
      ],
      "metadata": {
        "id": "XoCJthAPzlXM"
      }
    },
    {
      "cell_type": "code",
      "source": [
        "import logging\n",
        "logging.basicConfig(filename=\"files.log\", level=logging.INFO)\n",
        "logging.info(\"this is my info log\")\n",
        "logging.warning(\"this is my warning log\")\n",
        "logging.error(\"this is my error log\")\n",
        "logging.critical(\"this is my critical log\")"
      ],
      "metadata": {
        "colab": {
          "base_uri": "https://localhost:8080/"
        },
        "id": "198WjEsYz38U",
        "outputId": "2388f152-639c-485f-b24c-c192918ceea7"
      },
      "execution_count": 135,
      "outputs": [
        {
          "output_type": "stream",
          "name": "stderr",
          "text": [
            "INFO:root:this is my info log\n",
            "WARNING:root:this is my warning log\n",
            "ERROR:root:this is my error log\n",
            "CRITICAL:root:this is my critical log\n"
          ]
        }
      ]
    },
    {
      "cell_type": "markdown",
      "source": [
        "5. How would you catch and hadle division by zero error in Python.\n"
      ],
      "metadata": {
        "id": "-zB-ysTV0Tla"
      }
    },
    {
      "cell_type": "code",
      "source": [
        "def safe_division(a, b):\n",
        "    try:\n",
        "        result = a / b\n",
        "    except ZeroDivisionError:\n",
        "        print(\"Error: Division by zero is not allowed.\")\n",
        "        return None\n",
        "safe_division(5, 0)"
      ],
      "metadata": {
        "colab": {
          "base_uri": "https://localhost:8080/"
        },
        "id": "w5s3sjPw07Fr",
        "outputId": "c0b51729-5dfa-4cb3-f53f-b51cb493c847"
      },
      "execution_count": 136,
      "outputs": [
        {
          "output_type": "stream",
          "name": "stdout",
          "text": [
            "Error: Division by zero is not allowed.\n"
          ]
        }
      ]
    },
    {
      "cell_type": "markdown",
      "source": [
        "6. Write a Python program that logs an error message to log file when a division by zero exception occurs ."
      ],
      "metadata": {
        "id": "xtse2WTl1WWr"
      }
    },
    {
      "cell_type": "code",
      "source": [
        "import logging\n",
        "logging.basicConfig(filename='division_error.log', level=logging.ERROR)\n",
        "\n",
        "def divide(a, b):\n",
        "    try:\n",
        "        result = a / b\n",
        "    except ZeroDivisionError:\n",
        "        logging.error(\"Division by zero error occurred.\")\n",
        "        print(\"Error: Division by zero is not allowed.\")\n",
        "divide(5, 0)"
      ],
      "metadata": {
        "colab": {
          "base_uri": "https://localhost:8080/"
        },
        "id": "8WxmS_eI2FiD",
        "outputId": "08e71772-b856-43d0-a456-0306df9132ac"
      },
      "execution_count": 137,
      "outputs": [
        {
          "output_type": "stream",
          "name": "stderr",
          "text": [
            "ERROR:root:Division by zero error occurred.\n"
          ]
        },
        {
          "output_type": "stream",
          "name": "stdout",
          "text": [
            "Error: Division by zero is not allowed.\n"
          ]
        }
      ]
    },
    {
      "cell_type": "markdown",
      "source": [
        "7.How do you log informaion at different levels (INFO , ERROR , WARNING )in Python using the logging module."
      ],
      "metadata": {
        "id": "DPjW5Zmh2ujK"
      }
    },
    {
      "cell_type": "code",
      "source": [
        "import logging\n",
        "logging.basicConfig(filename='log_levels.log', level=logging.INFO)\n",
        "def different_levels():\n",
        "    logging.info(\"This is an info message.\")\n",
        "    logging.warning(\"This is a warning message.\")\n",
        "    logging.error(\"This is an error message.\")\n",
        "different_levels()\n"
      ],
      "metadata": {
        "colab": {
          "base_uri": "https://localhost:8080/"
        },
        "id": "DxqrKpIC3Doe",
        "outputId": "2f67dded-6f49-4149-8a51-e32f6ee16aa1"
      },
      "execution_count": 138,
      "outputs": [
        {
          "output_type": "stream",
          "name": "stderr",
          "text": [
            "INFO:root:This is an info message.\n",
            "WARNING:root:This is a warning message.\n",
            "ERROR:root:This is an error message.\n"
          ]
        }
      ]
    },
    {
      "cell_type": "markdown",
      "source": [
        "8. Write a program to handle a file opening error using exception handling."
      ],
      "metadata": {
        "id": "fr-98kuo3i8q"
      }
    },
    {
      "cell_type": "code",
      "source": [
        "def open_file(filename):\n",
        "    try:\n",
        "        with open(filename, 'r') as file:\n",
        "            content = file.read()\n",
        "            print(content)\n",
        "    except FileNotFoundError:\n",
        "        print(f\"Error: File '{filename}' not found.\")\n",
        "\n",
        "open_file(\"files.txt\")"
      ],
      "metadata": {
        "colab": {
          "base_uri": "https://localhost:8080/"
        },
        "id": "PjvFF2Mp4SjT",
        "outputId": "c8ee0183-a0e8-41c9-90ac-c89742ee54bf"
      },
      "execution_count": 139,
      "outputs": [
        {
          "output_type": "stream",
          "name": "stdout",
          "text": [
            "Hello world !\n"
          ]
        }
      ]
    },
    {
      "cell_type": "markdown",
      "source": [
        "9. How can you read a file line by line and store its content in a list in Python ."
      ],
      "metadata": {
        "id": "1xyaXdPH3lNY"
      }
    },
    {
      "cell_type": "code",
      "source": [
        "def read_file_lines(filename):\n",
        "    try:\n",
        "        with open(filename, 'r') as file:\n",
        "            lines = file.readlines()\n",
        "            return lines\n",
        "    except FileNotFoundError:\n",
        "        print(f\"Error: File '{filename}' not found.\")\n",
        "        return None\n",
        "\n",
        "lines = read_file_lines(\"files.txt\")\n",
        "if lines is not None:\n",
        "    for line in lines:\n",
        "        print(line.strip())"
      ],
      "metadata": {
        "colab": {
          "base_uri": "https://localhost:8080/"
        },
        "id": "Qc8FQ3Ym4mOI",
        "outputId": "48c817fa-ec03-4090-dd13-be6b44a6cd0c"
      },
      "execution_count": 140,
      "outputs": [
        {
          "output_type": "stream",
          "name": "stdout",
          "text": [
            "Hello world !\n"
          ]
        }
      ]
    },
    {
      "cell_type": "markdown",
      "source": [
        "10. How can you append data to an existing file in Python ."
      ],
      "metadata": {
        "id": "kqpyk6X-3mlu"
      }
    },
    {
      "cell_type": "code",
      "source": [
        "def append_to_file(filename, data):\n",
        "    try:\n",
        "       with open(filename, 'a') as file:\n",
        "        file.write(data)\n",
        "        print(f\"Data appended to '{filename}' successfully.\")\n",
        "    except FileNotFoundError:\n",
        "        print(f\"Error: File '{filename}' not found.\")\n",
        "append_to_file(\"files.txt\", \"This is appended data.\")"
      ],
      "metadata": {
        "colab": {
          "base_uri": "https://localhost:8080/"
        },
        "id": "afF1TSXm44-h",
        "outputId": "4c625ac1-ea8f-425c-f5ad-88dfeb0dd215"
      },
      "execution_count": 141,
      "outputs": [
        {
          "output_type": "stream",
          "name": "stdout",
          "text": [
            "Data appended to 'files.txt' successfully.\n"
          ]
        }
      ]
    },
    {
      "cell_type": "markdown",
      "source": [
        "11. Write a Python program that uses a try-except block to handle an error when attempting to access a dictionary key that doesn't exist."
      ],
      "metadata": {
        "id": "Yjjvg06V6tzN"
      }
    },
    {
      "cell_type": "code",
      "source": [
        "def safe_dictionary_access(dictionary, key):\n",
        "    try:\n",
        "        value = dictionary[key]\n",
        "        print(f\"Value for key '{key}': {value}\")\n",
        "    except KeyError:\n",
        "        print(f\"Error: Key '{key}' does not exist in the dictionary.\")\n",
        "        return None\n",
        "my_dict = {'a': 1, 'b': 2, 'c': 3}\n",
        "safe_dictionary_access(my_dict, 'd')"
      ],
      "metadata": {
        "colab": {
          "base_uri": "https://localhost:8080/"
        },
        "id": "JvMtwmFO8NfZ",
        "outputId": "96b9d1e6-0143-46b3-b597-a7c8615161f4"
      },
      "execution_count": 142,
      "outputs": [
        {
          "output_type": "stream",
          "name": "stdout",
          "text": [
            "Error: Key 'd' does not exist in the dictionary.\n"
          ]
        }
      ]
    },
    {
      "cell_type": "markdown",
      "source": [
        "12. Write a program that demonstrate using multiple except blocks to handle different types of exception."
      ],
      "metadata": {
        "id": "zN33w7Uq7R6K"
      }
    },
    {
      "cell_type": "code",
      "source": [
        "def divide_numbers(a, b):\n",
        "    try:\n",
        "        result = a / b\n",
        "        return result\n",
        "    except ZeroDivisionError:\n",
        "        print(\"Error: Division by zero is not allowed.\")\n",
        "    except TypeError:\n",
        "        print(\"Error: Invalid data types for division.\")\n",
        "    except Exception as e:\n",
        "        print(f\"An unexpected error occurred: {e}\")\n",
        "result = divide_numbers(10, 0)\n",
        "if result is not None:\n",
        "    print(f\"Result: {result}\")"
      ],
      "metadata": {
        "colab": {
          "base_uri": "https://localhost:8080/"
        },
        "id": "mnSk4Vvo8iyq",
        "outputId": "16551d71-93f1-4384-9dba-9934cf2526fc"
      },
      "execution_count": 143,
      "outputs": [
        {
          "output_type": "stream",
          "name": "stdout",
          "text": [
            "Error: Division by zero is not allowed.\n"
          ]
        }
      ]
    },
    {
      "cell_type": "markdown",
      "source": [
        "13. How would you check if a file exists before attempting to read it in Python."
      ],
      "metadata": {
        "id": "qiuJ2XWt7frE"
      }
    },
    {
      "cell_type": "code",
      "source": [
        "import os\n",
        "def check_file_exists(filename):\n",
        "    if os.path.isfile(filename):\n",
        "      print(f\"File '{filename}' exists.\")\n",
        "    else:\n",
        "      print(f\"File '{filename}' does not exist.\")\n",
        "check_file_exists(\"files.txt\")\n"
      ],
      "metadata": {
        "colab": {
          "base_uri": "https://localhost:8080/"
        },
        "id": "DMPxwzNx8_yk",
        "outputId": "745b2b23-599b-4230-d41c-56c7798dbfaa"
      },
      "execution_count": 144,
      "outputs": [
        {
          "output_type": "stream",
          "name": "stdout",
          "text": [
            "File 'files.txt' exists.\n"
          ]
        }
      ]
    },
    {
      "cell_type": "markdown",
      "source": [
        "14. Write a program that uses the logging module to log both informational and error message."
      ],
      "metadata": {
        "id": "UJYu7zvr7sFi"
      }
    },
    {
      "cell_type": "code",
      "source": [
        "import logging\n",
        "logging.basicConfig(filename='log_info_error.log', level=logging.INFO)\n",
        "def log_info_error():\n",
        "    logging.info(\"This is an informational message.\")\n",
        "    try:\n",
        "        result = 10 / 0\n",
        "    except ZeroDivisionError:\n",
        "      logging.error(\"This is an error message.\")\n",
        "log_info_error()"
      ],
      "metadata": {
        "colab": {
          "base_uri": "https://localhost:8080/"
        },
        "id": "lSEYbDsX9jET",
        "outputId": "23dd5a14-7fc3-4001-aaa4-3b1cfd5840a0"
      },
      "execution_count": 145,
      "outputs": [
        {
          "output_type": "stream",
          "name": "stderr",
          "text": [
            "INFO:root:This is an informational message.\n",
            "ERROR:root:This is an error message.\n"
          ]
        }
      ]
    },
    {
      "cell_type": "markdown",
      "source": [
        "15. Write a Python program that prints the content of a file and handles the case when the file is empty."
      ],
      "metadata": {
        "id": "jlYOkWMX79f2"
      }
    },
    {
      "cell_type": "code",
      "source": [
        "def print_file_content(filename):\n",
        "    try:\n",
        "        with open(filename, 'r') as file:\n",
        "            content = file.read().strip()\n",
        "            if content:\n",
        "              print(content)\n",
        "            else:\n",
        "              print(f\"The file '{filename}' is empty.\")\n",
        "    except FileNotFoundError:\n",
        "        print(f\"Error: File '{filename}' not found.\")\n",
        "print_file_content(\"files.txt\")"
      ],
      "metadata": {
        "colab": {
          "base_uri": "https://localhost:8080/"
        },
        "id": "bd6ONNFV-BpH",
        "outputId": "df24c889-989c-4953-f99b-c9b40dfb28e4"
      },
      "execution_count": 146,
      "outputs": [
        {
          "output_type": "stream",
          "name": "stdout",
          "text": [
            "Hello world !This is appended data.\n"
          ]
        }
      ]
    },
    {
      "cell_type": "markdown",
      "source": [
        "16.Demonstrate how to use memory profilling to chec the memory usage of a small program."
      ],
      "metadata": {
        "id": "G93fX3fa-lEe"
      }
    },
    {
      "cell_type": "code",
      "source": [
        "from memory_profiler import profile\n",
        "@profile\n",
        "def my_function():\n",
        "    a=[1] * (10 ** 6)\n",
        "    b=[2] * (2 * 10 ** 4)\n",
        "    del b\n",
        "    return a\n",
        "my_function()"
      ],
      "metadata": {
        "colab": {
          "base_uri": "https://localhost:8080/"
        },
        "id": "C0x4e7aPBM-N",
        "outputId": "fb036fb8-402a-4fff-e03c-53ddadea4288"
      },
      "execution_count": 147,
      "outputs": [
        {
          "output_type": "stream",
          "name": "stdout",
          "text": [
            "ERROR: Could not find file /tmp/ipython-input-147-3342287785.py\n"
          ]
        },
        {
          "output_type": "execute_result",
          "data": {
            "text/plain": [
              "[1,\n",
              " 1,\n",
              " 1,\n",
              " 1,\n",
              " 1,\n",
              " 1,\n",
              " 1,\n",
              " 1,\n",
              " 1,\n",
              " 1,\n",
              " 1,\n",
              " 1,\n",
              " 1,\n",
              " 1,\n",
              " 1,\n",
              " 1,\n",
              " 1,\n",
              " 1,\n",
              " 1,\n",
              " 1,\n",
              " 1,\n",
              " 1,\n",
              " 1,\n",
              " 1,\n",
              " 1,\n",
              " 1,\n",
              " 1,\n",
              " 1,\n",
              " 1,\n",
              " 1,\n",
              " 1,\n",
              " 1,\n",
              " 1,\n",
              " 1,\n",
              " 1,\n",
              " 1,\n",
              " 1,\n",
              " 1,\n",
              " 1,\n",
              " 1,\n",
              " 1,\n",
              " 1,\n",
              " 1,\n",
              " 1,\n",
              " 1,\n",
              " 1,\n",
              " 1,\n",
              " 1,\n",
              " 1,\n",
              " 1,\n",
              " 1,\n",
              " 1,\n",
              " 1,\n",
              " 1,\n",
              " 1,\n",
              " 1,\n",
              " 1,\n",
              " 1,\n",
              " 1,\n",
              " 1,\n",
              " 1,\n",
              " 1,\n",
              " 1,\n",
              " 1,\n",
              " 1,\n",
              " 1,\n",
              " 1,\n",
              " 1,\n",
              " 1,\n",
              " 1,\n",
              " 1,\n",
              " 1,\n",
              " 1,\n",
              " 1,\n",
              " 1,\n",
              " 1,\n",
              " 1,\n",
              " 1,\n",
              " 1,\n",
              " 1,\n",
              " 1,\n",
              " 1,\n",
              " 1,\n",
              " 1,\n",
              " 1,\n",
              " 1,\n",
              " 1,\n",
              " 1,\n",
              " 1,\n",
              " 1,\n",
              " 1,\n",
              " 1,\n",
              " 1,\n",
              " 1,\n",
              " 1,\n",
              " 1,\n",
              " 1,\n",
              " 1,\n",
              " 1,\n",
              " 1,\n",
              " 1,\n",
              " 1,\n",
              " 1,\n",
              " 1,\n",
              " 1,\n",
              " 1,\n",
              " 1,\n",
              " 1,\n",
              " 1,\n",
              " 1,\n",
              " 1,\n",
              " 1,\n",
              " 1,\n",
              " 1,\n",
              " 1,\n",
              " 1,\n",
              " 1,\n",
              " 1,\n",
              " 1,\n",
              " 1,\n",
              " 1,\n",
              " 1,\n",
              " 1,\n",
              " 1,\n",
              " 1,\n",
              " 1,\n",
              " 1,\n",
              " 1,\n",
              " 1,\n",
              " 1,\n",
              " 1,\n",
              " 1,\n",
              " 1,\n",
              " 1,\n",
              " 1,\n",
              " 1,\n",
              " 1,\n",
              " 1,\n",
              " 1,\n",
              " 1,\n",
              " 1,\n",
              " 1,\n",
              " 1,\n",
              " 1,\n",
              " 1,\n",
              " 1,\n",
              " 1,\n",
              " 1,\n",
              " 1,\n",
              " 1,\n",
              " 1,\n",
              " 1,\n",
              " 1,\n",
              " 1,\n",
              " 1,\n",
              " 1,\n",
              " 1,\n",
              " 1,\n",
              " 1,\n",
              " 1,\n",
              " 1,\n",
              " 1,\n",
              " 1,\n",
              " 1,\n",
              " 1,\n",
              " 1,\n",
              " 1,\n",
              " 1,\n",
              " 1,\n",
              " 1,\n",
              " 1,\n",
              " 1,\n",
              " 1,\n",
              " 1,\n",
              " 1,\n",
              " 1,\n",
              " 1,\n",
              " 1,\n",
              " 1,\n",
              " 1,\n",
              " 1,\n",
              " 1,\n",
              " 1,\n",
              " 1,\n",
              " 1,\n",
              " 1,\n",
              " 1,\n",
              " 1,\n",
              " 1,\n",
              " 1,\n",
              " 1,\n",
              " 1,\n",
              " 1,\n",
              " 1,\n",
              " 1,\n",
              " 1,\n",
              " 1,\n",
              " 1,\n",
              " 1,\n",
              " 1,\n",
              " 1,\n",
              " 1,\n",
              " 1,\n",
              " 1,\n",
              " 1,\n",
              " 1,\n",
              " 1,\n",
              " 1,\n",
              " 1,\n",
              " 1,\n",
              " 1,\n",
              " 1,\n",
              " 1,\n",
              " 1,\n",
              " 1,\n",
              " 1,\n",
              " 1,\n",
              " 1,\n",
              " 1,\n",
              " 1,\n",
              " 1,\n",
              " 1,\n",
              " 1,\n",
              " 1,\n",
              " 1,\n",
              " 1,\n",
              " 1,\n",
              " 1,\n",
              " 1,\n",
              " 1,\n",
              " 1,\n",
              " 1,\n",
              " 1,\n",
              " 1,\n",
              " 1,\n",
              " 1,\n",
              " 1,\n",
              " 1,\n",
              " 1,\n",
              " 1,\n",
              " 1,\n",
              " 1,\n",
              " 1,\n",
              " 1,\n",
              " 1,\n",
              " 1,\n",
              " 1,\n",
              " 1,\n",
              " 1,\n",
              " 1,\n",
              " 1,\n",
              " 1,\n",
              " 1,\n",
              " 1,\n",
              " 1,\n",
              " 1,\n",
              " 1,\n",
              " 1,\n",
              " 1,\n",
              " 1,\n",
              " 1,\n",
              " 1,\n",
              " 1,\n",
              " 1,\n",
              " 1,\n",
              " 1,\n",
              " 1,\n",
              " 1,\n",
              " 1,\n",
              " 1,\n",
              " 1,\n",
              " 1,\n",
              " 1,\n",
              " 1,\n",
              " 1,\n",
              " 1,\n",
              " 1,\n",
              " 1,\n",
              " 1,\n",
              " 1,\n",
              " 1,\n",
              " 1,\n",
              " 1,\n",
              " 1,\n",
              " 1,\n",
              " 1,\n",
              " 1,\n",
              " 1,\n",
              " 1,\n",
              " 1,\n",
              " 1,\n",
              " 1,\n",
              " 1,\n",
              " 1,\n",
              " 1,\n",
              " 1,\n",
              " 1,\n",
              " 1,\n",
              " 1,\n",
              " 1,\n",
              " 1,\n",
              " 1,\n",
              " 1,\n",
              " 1,\n",
              " 1,\n",
              " 1,\n",
              " 1,\n",
              " 1,\n",
              " 1,\n",
              " 1,\n",
              " 1,\n",
              " 1,\n",
              " 1,\n",
              " 1,\n",
              " 1,\n",
              " 1,\n",
              " 1,\n",
              " 1,\n",
              " 1,\n",
              " 1,\n",
              " 1,\n",
              " 1,\n",
              " 1,\n",
              " 1,\n",
              " 1,\n",
              " 1,\n",
              " 1,\n",
              " 1,\n",
              " 1,\n",
              " 1,\n",
              " 1,\n",
              " 1,\n",
              " 1,\n",
              " 1,\n",
              " 1,\n",
              " 1,\n",
              " 1,\n",
              " 1,\n",
              " 1,\n",
              " 1,\n",
              " 1,\n",
              " 1,\n",
              " 1,\n",
              " 1,\n",
              " 1,\n",
              " 1,\n",
              " 1,\n",
              " 1,\n",
              " 1,\n",
              " 1,\n",
              " 1,\n",
              " 1,\n",
              " 1,\n",
              " 1,\n",
              " 1,\n",
              " 1,\n",
              " 1,\n",
              " 1,\n",
              " 1,\n",
              " 1,\n",
              " 1,\n",
              " 1,\n",
              " 1,\n",
              " 1,\n",
              " 1,\n",
              " 1,\n",
              " 1,\n",
              " 1,\n",
              " 1,\n",
              " 1,\n",
              " 1,\n",
              " 1,\n",
              " 1,\n",
              " 1,\n",
              " 1,\n",
              " 1,\n",
              " 1,\n",
              " 1,\n",
              " 1,\n",
              " 1,\n",
              " 1,\n",
              " 1,\n",
              " 1,\n",
              " 1,\n",
              " 1,\n",
              " 1,\n",
              " 1,\n",
              " 1,\n",
              " 1,\n",
              " 1,\n",
              " 1,\n",
              " 1,\n",
              " 1,\n",
              " 1,\n",
              " 1,\n",
              " 1,\n",
              " 1,\n",
              " 1,\n",
              " 1,\n",
              " 1,\n",
              " 1,\n",
              " 1,\n",
              " 1,\n",
              " 1,\n",
              " 1,\n",
              " 1,\n",
              " 1,\n",
              " 1,\n",
              " 1,\n",
              " 1,\n",
              " 1,\n",
              " 1,\n",
              " 1,\n",
              " 1,\n",
              " 1,\n",
              " 1,\n",
              " 1,\n",
              " 1,\n",
              " 1,\n",
              " 1,\n",
              " 1,\n",
              " 1,\n",
              " 1,\n",
              " 1,\n",
              " 1,\n",
              " 1,\n",
              " 1,\n",
              " 1,\n",
              " 1,\n",
              " 1,\n",
              " 1,\n",
              " 1,\n",
              " 1,\n",
              " 1,\n",
              " 1,\n",
              " 1,\n",
              " 1,\n",
              " 1,\n",
              " 1,\n",
              " 1,\n",
              " 1,\n",
              " 1,\n",
              " 1,\n",
              " 1,\n",
              " 1,\n",
              " 1,\n",
              " 1,\n",
              " 1,\n",
              " 1,\n",
              " 1,\n",
              " 1,\n",
              " 1,\n",
              " 1,\n",
              " 1,\n",
              " 1,\n",
              " 1,\n",
              " 1,\n",
              " 1,\n",
              " 1,\n",
              " 1,\n",
              " 1,\n",
              " 1,\n",
              " 1,\n",
              " 1,\n",
              " 1,\n",
              " 1,\n",
              " 1,\n",
              " 1,\n",
              " 1,\n",
              " 1,\n",
              " 1,\n",
              " 1,\n",
              " 1,\n",
              " 1,\n",
              " 1,\n",
              " 1,\n",
              " 1,\n",
              " 1,\n",
              " 1,\n",
              " 1,\n",
              " 1,\n",
              " 1,\n",
              " 1,\n",
              " 1,\n",
              " 1,\n",
              " 1,\n",
              " 1,\n",
              " 1,\n",
              " 1,\n",
              " 1,\n",
              " 1,\n",
              " 1,\n",
              " 1,\n",
              " 1,\n",
              " 1,\n",
              " 1,\n",
              " 1,\n",
              " 1,\n",
              " 1,\n",
              " 1,\n",
              " 1,\n",
              " 1,\n",
              " 1,\n",
              " 1,\n",
              " 1,\n",
              " 1,\n",
              " 1,\n",
              " 1,\n",
              " 1,\n",
              " 1,\n",
              " 1,\n",
              " 1,\n",
              " 1,\n",
              " 1,\n",
              " 1,\n",
              " 1,\n",
              " 1,\n",
              " 1,\n",
              " 1,\n",
              " 1,\n",
              " 1,\n",
              " 1,\n",
              " 1,\n",
              " 1,\n",
              " 1,\n",
              " 1,\n",
              " 1,\n",
              " 1,\n",
              " 1,\n",
              " 1,\n",
              " 1,\n",
              " 1,\n",
              " 1,\n",
              " 1,\n",
              " 1,\n",
              " 1,\n",
              " 1,\n",
              " 1,\n",
              " 1,\n",
              " 1,\n",
              " 1,\n",
              " 1,\n",
              " 1,\n",
              " 1,\n",
              " 1,\n",
              " 1,\n",
              " 1,\n",
              " 1,\n",
              " 1,\n",
              " 1,\n",
              " 1,\n",
              " 1,\n",
              " 1,\n",
              " 1,\n",
              " 1,\n",
              " 1,\n",
              " 1,\n",
              " 1,\n",
              " 1,\n",
              " 1,\n",
              " 1,\n",
              " 1,\n",
              " 1,\n",
              " 1,\n",
              " 1,\n",
              " 1,\n",
              " 1,\n",
              " 1,\n",
              " 1,\n",
              " 1,\n",
              " 1,\n",
              " 1,\n",
              " 1,\n",
              " 1,\n",
              " 1,\n",
              " 1,\n",
              " 1,\n",
              " 1,\n",
              " 1,\n",
              " 1,\n",
              " 1,\n",
              " 1,\n",
              " 1,\n",
              " 1,\n",
              " 1,\n",
              " 1,\n",
              " 1,\n",
              " 1,\n",
              " 1,\n",
              " 1,\n",
              " 1,\n",
              " 1,\n",
              " 1,\n",
              " 1,\n",
              " 1,\n",
              " 1,\n",
              " 1,\n",
              " 1,\n",
              " 1,\n",
              " 1,\n",
              " 1,\n",
              " 1,\n",
              " 1,\n",
              " 1,\n",
              " 1,\n",
              " 1,\n",
              " 1,\n",
              " 1,\n",
              " 1,\n",
              " 1,\n",
              " 1,\n",
              " 1,\n",
              " 1,\n",
              " 1,\n",
              " 1,\n",
              " 1,\n",
              " 1,\n",
              " 1,\n",
              " 1,\n",
              " 1,\n",
              " 1,\n",
              " 1,\n",
              " 1,\n",
              " 1,\n",
              " 1,\n",
              " 1,\n",
              " 1,\n",
              " 1,\n",
              " 1,\n",
              " 1,\n",
              " 1,\n",
              " 1,\n",
              " 1,\n",
              " 1,\n",
              " 1,\n",
              " 1,\n",
              " 1,\n",
              " 1,\n",
              " 1,\n",
              " 1,\n",
              " 1,\n",
              " 1,\n",
              " 1,\n",
              " 1,\n",
              " 1,\n",
              " 1,\n",
              " 1,\n",
              " 1,\n",
              " 1,\n",
              " 1,\n",
              " 1,\n",
              " 1,\n",
              " 1,\n",
              " 1,\n",
              " 1,\n",
              " 1,\n",
              " 1,\n",
              " 1,\n",
              " 1,\n",
              " 1,\n",
              " 1,\n",
              " 1,\n",
              " 1,\n",
              " 1,\n",
              " 1,\n",
              " 1,\n",
              " 1,\n",
              " 1,\n",
              " 1,\n",
              " 1,\n",
              " 1,\n",
              " 1,\n",
              " 1,\n",
              " 1,\n",
              " 1,\n",
              " 1,\n",
              " 1,\n",
              " 1,\n",
              " 1,\n",
              " 1,\n",
              " 1,\n",
              " 1,\n",
              " 1,\n",
              " 1,\n",
              " 1,\n",
              " 1,\n",
              " 1,\n",
              " 1,\n",
              " 1,\n",
              " 1,\n",
              " 1,\n",
              " 1,\n",
              " 1,\n",
              " 1,\n",
              " 1,\n",
              " 1,\n",
              " 1,\n",
              " 1,\n",
              " 1,\n",
              " 1,\n",
              " 1,\n",
              " 1,\n",
              " 1,\n",
              " 1,\n",
              " 1,\n",
              " 1,\n",
              " 1,\n",
              " 1,\n",
              " 1,\n",
              " 1,\n",
              " 1,\n",
              " 1,\n",
              " 1,\n",
              " 1,\n",
              " 1,\n",
              " 1,\n",
              " 1,\n",
              " 1,\n",
              " 1,\n",
              " 1,\n",
              " 1,\n",
              " 1,\n",
              " 1,\n",
              " 1,\n",
              " 1,\n",
              " 1,\n",
              " 1,\n",
              " 1,\n",
              " 1,\n",
              " 1,\n",
              " 1,\n",
              " 1,\n",
              " 1,\n",
              " 1,\n",
              " 1,\n",
              " 1,\n",
              " 1,\n",
              " 1,\n",
              " 1,\n",
              " 1,\n",
              " 1,\n",
              " 1,\n",
              " 1,\n",
              " 1,\n",
              " 1,\n",
              " 1,\n",
              " 1,\n",
              " 1,\n",
              " 1,\n",
              " 1,\n",
              " 1,\n",
              " 1,\n",
              " 1,\n",
              " 1,\n",
              " 1,\n",
              " 1,\n",
              " 1,\n",
              " 1,\n",
              " 1,\n",
              " 1,\n",
              " 1,\n",
              " 1,\n",
              " 1,\n",
              " 1,\n",
              " 1,\n",
              " 1,\n",
              " 1,\n",
              " 1,\n",
              " 1,\n",
              " 1,\n",
              " 1,\n",
              " 1,\n",
              " 1,\n",
              " 1,\n",
              " 1,\n",
              " 1,\n",
              " 1,\n",
              " 1,\n",
              " 1,\n",
              " 1,\n",
              " 1,\n",
              " 1,\n",
              " 1,\n",
              " 1,\n",
              " 1,\n",
              " 1,\n",
              " 1,\n",
              " 1,\n",
              " 1,\n",
              " 1,\n",
              " 1,\n",
              " 1,\n",
              " 1,\n",
              " 1,\n",
              " 1,\n",
              " 1,\n",
              " 1,\n",
              " 1,\n",
              " 1,\n",
              " 1,\n",
              " 1,\n",
              " 1,\n",
              " 1,\n",
              " 1,\n",
              " 1,\n",
              " 1,\n",
              " 1,\n",
              " 1,\n",
              " 1,\n",
              " 1,\n",
              " 1,\n",
              " 1,\n",
              " 1,\n",
              " 1,\n",
              " 1,\n",
              " 1,\n",
              " 1,\n",
              " 1,\n",
              " 1,\n",
              " 1,\n",
              " 1,\n",
              " 1,\n",
              " 1,\n",
              " 1,\n",
              " 1,\n",
              " 1,\n",
              " 1,\n",
              " 1,\n",
              " 1,\n",
              " 1,\n",
              " 1,\n",
              " 1,\n",
              " 1,\n",
              " 1,\n",
              " 1,\n",
              " 1,\n",
              " 1,\n",
              " 1,\n",
              " 1,\n",
              " 1,\n",
              " 1,\n",
              " 1,\n",
              " 1,\n",
              " 1,\n",
              " 1,\n",
              " 1,\n",
              " 1,\n",
              " 1,\n",
              " 1,\n",
              " 1,\n",
              " 1,\n",
              " 1,\n",
              " 1,\n",
              " 1,\n",
              " 1,\n",
              " 1,\n",
              " 1,\n",
              " 1,\n",
              " 1,\n",
              " 1,\n",
              " 1,\n",
              " 1,\n",
              " 1,\n",
              " 1,\n",
              " 1,\n",
              " 1,\n",
              " 1,\n",
              " 1,\n",
              " 1,\n",
              " 1,\n",
              " 1,\n",
              " 1,\n",
              " 1,\n",
              " 1,\n",
              " 1,\n",
              " 1,\n",
              " 1,\n",
              " 1,\n",
              " 1,\n",
              " 1,\n",
              " 1,\n",
              " 1,\n",
              " 1,\n",
              " 1,\n",
              " 1,\n",
              " 1,\n",
              " 1,\n",
              " 1,\n",
              " 1,\n",
              " 1,\n",
              " 1,\n",
              " 1,\n",
              " 1,\n",
              " 1,\n",
              " 1,\n",
              " 1,\n",
              " 1,\n",
              " 1,\n",
              " 1,\n",
              " 1,\n",
              " 1,\n",
              " 1,\n",
              " 1,\n",
              " 1,\n",
              " 1,\n",
              " 1,\n",
              " 1,\n",
              " 1,\n",
              " 1,\n",
              " 1,\n",
              " 1,\n",
              " 1,\n",
              " 1,\n",
              " 1,\n",
              " 1,\n",
              " 1,\n",
              " 1,\n",
              " 1,\n",
              " 1,\n",
              " 1,\n",
              " 1,\n",
              " 1,\n",
              " 1,\n",
              " 1,\n",
              " 1,\n",
              " 1,\n",
              " 1,\n",
              " 1,\n",
              " 1,\n",
              " 1,\n",
              " 1,\n",
              " 1,\n",
              " 1,\n",
              " 1,\n",
              " 1,\n",
              " 1,\n",
              " 1,\n",
              " 1,\n",
              " 1,\n",
              " 1,\n",
              " 1,\n",
              " 1,\n",
              " 1,\n",
              " 1,\n",
              " 1,\n",
              " 1,\n",
              " 1,\n",
              " 1,\n",
              " 1,\n",
              " 1,\n",
              " 1,\n",
              " 1,\n",
              " 1,\n",
              " 1,\n",
              " 1,\n",
              " 1,\n",
              " 1,\n",
              " 1,\n",
              " 1,\n",
              " 1,\n",
              " 1,\n",
              " 1,\n",
              " 1,\n",
              " 1,\n",
              " 1,\n",
              " 1,\n",
              " 1,\n",
              " 1,\n",
              " 1,\n",
              " 1,\n",
              " 1,\n",
              " 1,\n",
              " 1,\n",
              " 1,\n",
              " 1,\n",
              " 1,\n",
              " 1,\n",
              " 1,\n",
              " 1,\n",
              " 1,\n",
              " 1,\n",
              " 1,\n",
              " 1,\n",
              " 1,\n",
              " 1,\n",
              " 1,\n",
              " 1,\n",
              " 1,\n",
              " 1,\n",
              " 1,\n",
              " 1,\n",
              " 1,\n",
              " 1,\n",
              " 1,\n",
              " 1,\n",
              " 1,\n",
              " 1,\n",
              " 1,\n",
              " 1,\n",
              " 1,\n",
              " ...]"
            ]
          },
          "metadata": {},
          "execution_count": 147
        }
      ]
    },
    {
      "cell_type": "markdown",
      "source": [
        "17. Write a Python program to create and write a list of numbers to a file ,one number per line."
      ],
      "metadata": {
        "id": "Ezn2xSdp-1N-"
      }
    },
    {
      "cell_type": "code",
      "source": [
        "def write_numbers_to_file(numbers, filename):\n",
        "    try:\n",
        "        with open(filename, 'w') as file:\n",
        "            for number in numbers:\n",
        "                file.write(str(number) + '\\n')\n",
        "                print(f\"Numbers written to '{filename}' successfully.\")\n",
        "    except Exception as e:\n",
        "        print(f\"An error occurred: {e}\")\n",
        "numbers=[1, 2, 3, 4, 5]\n",
        "write_numbers_to_file(numbers, \"numbers.txt\")"
      ],
      "metadata": {
        "colab": {
          "base_uri": "https://localhost:8080/"
        },
        "id": "AjY5QTcJB-9m",
        "outputId": "29fede85-e2d4-4248-f799-6564c4fa9d4a"
      },
      "execution_count": 148,
      "outputs": [
        {
          "output_type": "stream",
          "name": "stdout",
          "text": [
            "Numbers written to 'numbers.txt' successfully.\n",
            "Numbers written to 'numbers.txt' successfully.\n",
            "Numbers written to 'numbers.txt' successfully.\n",
            "Numbers written to 'numbers.txt' successfully.\n",
            "Numbers written to 'numbers.txt' successfully.\n"
          ]
        }
      ]
    },
    {
      "cell_type": "markdown",
      "source": [
        "18. How would you implement a basic logging setup that logs to a file with rotation after 1mb."
      ],
      "metadata": {
        "id": "jVSOA-3t_IIN"
      }
    },
    {
      "cell_type": "code",
      "source": [
        "import logging\n",
        "from logging.handlers import RotatingFileHandler\n",
        "def setup_logging():\n",
        "    logger = logging.getLogger()\n",
        "    logger.setLevel(logging.INFO)\n",
        "    handler = RotatingFileHandler('app.log', maxBytes=1000000, backupCount=5)\n",
        "    logger.addHandler(handler)\n",
        "    return logger\n",
        "logger = setup_logging()\n",
        "logger.info(\"This is an informational message.\")"
      ],
      "metadata": {
        "colab": {
          "base_uri": "https://localhost:8080/"
        },
        "id": "xJ1aq6jGFufP",
        "outputId": "62e14dee-f36a-4d17-888d-8be31d390a80"
      },
      "execution_count": 149,
      "outputs": [
        {
          "output_type": "stream",
          "name": "stderr",
          "text": [
            "INFO:root:This is an informational message.\n"
          ]
        }
      ]
    },
    {
      "cell_type": "markdown",
      "source": [
        "19. Write a program that handles both indexError and keyError using a try-except block."
      ],
      "metadata": {
        "id": "J-PBllY9_dVU"
      }
    },
    {
      "cell_type": "code",
      "source": [
        "def handle_exceptions(data, index, key):\n",
        "    try:\n",
        "        my_list=[1, 2, 3]\n",
        "        print(my_list[index])\n",
        "        my_dict = {'a': 1, 'b': 2, 'c': 3}\n",
        "        print(my_dict[key])\n",
        "    except IndexError:\n",
        "        print(\"Error: Index out of range.\")\n",
        "    except KeyError:\n",
        "        print(f\"Error: Key '{key}' not found in the dictionary.\")\n",
        "        return None\n",
        "handle_exceptions([1, 2, 3], 3, 'd')"
      ],
      "metadata": {
        "colab": {
          "base_uri": "https://localhost:8080/"
        },
        "id": "f-ZDkpMNGDrx",
        "outputId": "c99e8878-78cc-4892-ad35-3ca43aa752ac"
      },
      "execution_count": 150,
      "outputs": [
        {
          "output_type": "stream",
          "name": "stdout",
          "text": [
            "Error: Index out of range.\n"
          ]
        }
      ]
    },
    {
      "cell_type": "markdown",
      "source": [
        "20 How would you open a file and read its contents using a context manager in Python."
      ],
      "metadata": {
        "id": "1X0Yoq9V_ydZ"
      }
    },
    {
      "cell_type": "code",
      "source": [
        "def read_file(filename):\n",
        "    try:\n",
        "        with open(filename, 'r') as file:\n",
        "            content = file.read()\n",
        "            print(content)\n",
        "    except FileNotFoundError:\n",
        "        print(f\"Error: File '{filename}' not found.\")\n",
        "read_file(\"files.txt\")"
      ],
      "metadata": {
        "colab": {
          "base_uri": "https://localhost:8080/"
        },
        "id": "jatUIst2Glft",
        "outputId": "bb379310-7b93-4ba6-bdc8-c3a49c0a187a"
      },
      "execution_count": 151,
      "outputs": [
        {
          "output_type": "stream",
          "name": "stdout",
          "text": [
            "Hello world !This is appended data.\n"
          ]
        }
      ]
    },
    {
      "cell_type": "markdown",
      "source": [
        "21. Write a Python program that reads  a file and prints the number of occurences of a specific word."
      ],
      "metadata": {
        "id": "FFcjmgtqABlw"
      }
    },
    {
      "cell_type": "code",
      "source": [
        "def count_word_occurrences(filename, word):\n",
        "    try:\n",
        "        with open(filename, 'r') as file:\n",
        "            content = file.read()\n",
        "            word_count = content.lower().count(word.lower())\n",
        "            print(f\"The word '{word}' appears {word_count} times in the file '{filename}'.\")\n",
        "    except FileNotFoundError:\n",
        "        print(f\"Error: File '{filename}' not found.\")\n",
        "count_word_occurrences(\"files.txt\", \"hello\")"
      ],
      "metadata": {
        "colab": {
          "base_uri": "https://localhost:8080/"
        },
        "id": "IErngmvyGx8A",
        "outputId": "9eb71748-2e42-45d2-c4de-f8a79de1d2c2"
      },
      "execution_count": 152,
      "outputs": [
        {
          "output_type": "stream",
          "name": "stdout",
          "text": [
            "The word 'hello' appears 1 times in the file 'files.txt'.\n"
          ]
        }
      ]
    },
    {
      "cell_type": "markdown",
      "source": [
        "22. How can you check if a file is empty before attemoting to read its content."
      ],
      "metadata": {
        "id": "lCNnsGm-I1Mi"
      }
    },
    {
      "cell_type": "code",
      "source": [
        "import os\n",
        "def is_file_empty(filename):\n",
        "    try:\n",
        "        return os.path.getsize(filename) == 0\n",
        "    except FileNotFoundError:\n",
        "        print(f\"Error: File '{filename}' not found.\")\n",
        "        return None\n",
        "is_file_empty(\"files.txt\")\n",
        "if is_file_empty(\"files.txt\"):\n",
        "    print(\"The file is empty.\")\n",
        "else:\n",
        "    print(\"The file is not empty.\")"
      ],
      "metadata": {
        "colab": {
          "base_uri": "https://localhost:8080/"
        },
        "id": "GnkKq_xrIWfu",
        "outputId": "2a58ad30-08c9-4f8d-c3b7-bef56a220f66"
      },
      "execution_count": 153,
      "outputs": [
        {
          "output_type": "stream",
          "name": "stdout",
          "text": [
            "The file is not empty.\n"
          ]
        }
      ]
    },
    {
      "cell_type": "markdown",
      "source": [
        "23. Write a Python program that writes to a log file when an error occurs during file handling."
      ],
      "metadata": {
        "id": "eVhZIRK1ArIR"
      }
    },
    {
      "cell_type": "code",
      "source": [
        "import logging\n",
        "logging.basicConfig(filename=\"error_log.txt\", level=logging.ERROR)\n",
        "def read_file(filename):\n",
        "    try:\n",
        "        with open(filename, 'r') as file:\n",
        "            content = file.read()\n",
        "            print(content)\n",
        "    except FileNotFoundError:\n",
        "        logging.error(f\"File '{filename}' not found.\")\n",
        "    except Exception as e:\n",
        "        logging.error(f\"An error occurred: {e}\")\n",
        "read_file(\"non_existent_file.txt\")\n"
      ],
      "metadata": {
        "colab": {
          "base_uri": "https://localhost:8080/"
        },
        "id": "oELo8PXBKtTW",
        "outputId": "c118dfe0-530c-4a14-ea28-a00d18ea784a"
      },
      "execution_count": 154,
      "outputs": [
        {
          "output_type": "stream",
          "name": "stderr",
          "text": [
            "ERROR:root:File 'non_existent_file.txt' not found.\n"
          ]
        }
      ]
    }
  ],
  "metadata": {
    "colab": {
      "provenance": [],
      "authorship_tag": "ABX9TyNVVGqUD1qmBX0XKZ4Xgf3D",
      "include_colab_link": true
    },
    "kernelspec": {
      "display_name": "Python 3",
      "name": "python3"
    },
    "language_info": {
      "name": "python"
    }
  },
  "nbformat": 4,
  "nbformat_minor": 0
}